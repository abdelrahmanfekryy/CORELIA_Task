{
  "cells": [
    {
      "cell_type": "markdown",
      "metadata": {},
      "source": [
        "<style>\n",
        ".titlebar{\n",
        "    box-shadow: 0px 0px 10px rgb(0,0,0);\n",
        "    display: grid;\n",
        "    grid-template-columns: 0.3fr 1.2fr 1.5fr;\n",
        "    gap: 5px;\n",
        "    background:white;\n",
        "    border-radius: 10px;\n",
        "}\n",
        "</style>\n",
        "<div class=\"titlebar\">\n",
        "<svg style=\"display:inline-block;padding:10px 10px\" height=70 xmlns=\"http://www.w3.org/2000/svg\" xmlns:xlink=\"http://www.w3.org/1999/xlink\" viewBox=\"0 0 543.7 530.7\" xmlns:v=\"https://vecta.io/nano\">\n",
        "<title>Corelia</title>\n",
        "<path d=\"M303.5 407.4c-148.1 43.6-256.3-8.5-274-57.2-17.6-48.7-1.5-99.6 86.7-138.1 89.5-39.1 205.4-24.8 270.2-7.7 51.9 13.7 94.8 33.2 119.3 73.6 26.8 44.1-8.2 66.1-17.4 69.7-48.9 18.7 85.8-23.4-69.5-68.3-104.4-30.2-157.5-29.8-206.2-24.1-68.6 8.1-141.5 55.5-99.2 91.5 37.3 31.7 95.9 45.2 137 51.2 63.5 9.2 120.2-10.4 53.1 9.4\" fill=\"#73be8e\"/>\n",
        "<defs>\n",
        "<path id=\"A\" d=\"M524 184.3c30.5 69.3-58.8 180.6-199.3 248.7s-279.1 67.1-309.6-2.1c-8.4-19.1-7.7-41.4.7-65.1-16.6 32.8-20.8 64.1-9.4 90 32.2 73.3 177.2 75.2 323.8 4.1 146.6-71 239.3-188.1 207.1-261.4-4.8-10.8-12-20.1-21.3-27.8 3.2 4.3 5.9 8.8 8 13.6\"/>\n",
        "</defs>\n",
        "<clipPath id=\"B\"><use xlink:href=\"#A\"/></clipPath>\n",
        "<linearGradient id=\"C\" gradientUnits=\"userSpaceOnUse\" x1=\"0\" y1=\"350.878\" x2=\"543.741\" y2=\"350.878\"><stop offset=\"0\" stop-color=\"#9dd6ed\"/><stop offset=\".039\" stop-color=\"#8ccdca\"/><stop offset=\".078\" stop-color=\"#7fc5ae\"/><stop offset=\".117\" stop-color=\"#76c09a\"/><stop offset=\".156\" stop-color=\"#70bd8e\"/><stop offset=\".196\" stop-color=\"#6ebc8a\"/><stop offset=\".371\" stop-color=\"#55a598\"/><stop offset=\".628\" stop-color=\"#3688a9\"/><stop offset=\".846\" stop-color=\"#2476b3\"/><stop offset=\"1\" stop-color=\"#1d70b7\"/></linearGradient>\n",
        "<path d=\"M-5 170.8h574.5V531H-5z\" clip-path=\"url(#B)\" fill=\"url(#C)\"/>\n",
        "<defs><path id=\"D\" d=\"M119.8 218.2c-38.7 16-81.7 40.7-78.6 66.9 4 34.3 65.2 77.3 104.4 83-13.5-6.2-28.1-14.7-37.3-26.7-14.8-19.2 7.9-72.2 81.9-80.7 52.4-6.1 110.8-11.5 223 16.6 15.9 4 28.7 9.5 38.5 13.9 21.4 9.6 29.3 18.7 31.1 26.4l3.1-3.4c10.7-8.8-1.1-41.5-58.4-74.6-42.1-24.4-107.3-34.2-127-36.2-12.1-.6-24.7-1-37.6-1-46.1 0-96 4.5-143.1 15.8\"/></defs>\n",
        "<clipPath id=\"E\"><use xlink:href=\"#D\"/></clipPath><linearGradient id=\"F\" gradientUnits=\"userSpaceOnUse\" x1=\"0\" y1=\"622.395\" x2=\"1\" y2=\"622.395\" gradientTransform=\"matrix(434.7703 -180.2035 -180.2035 -434.7703 112219.2031 270969.6875)\"><stop offset=\"0\" stop-color=\"#9dd6ed\"/><stop offset=\".218\" stop-color=\"#6ebc8a\"/><stop offset=\".386\" stop-color=\"#62b190\"/><stop offset=\".687\" stop-color=\"#4494a2\"/><stop offset=\"1\" stop-color=\"#1d70b7\"/></linearGradient><path d=\"M-20.5 226.7L429.4 40.3l125.8 303.5-449.9 186.5z\" clip-path=\"url(#E)\" fill=\"url(#F)\"/><defs><path id=\"G\" d=\"M276.7 0C217.3.2 153.3 34 131 117.7c-41.3 155 33.1 264.5 107.6 337.8 76 74.8 206.3 98.4 245 50 21.3-26.6 23.2-47.7 13.9-76.8-21.5-67.1 17.3 49.6-43.1 57.3-84.1 10.8-142.9-36.5-189.8-107-49.1-73.7-76.7-143.2-71-206.9C197 133 208.5 68.6 231.9 47c34.7-32 90.9-35.1 116.8-20.5 28.3 15.9 58.6 44.9 22.4 8.5-22-22-56.9-35-93.6-35.1h-.8z\"/></defs><clipPath id=\"H\"><use xlink:href=\"#G\"/></clipPath><linearGradient id=\"I\" gradientUnits=\"userSpaceOnUse\" x1=\"0\" y1=\"622.398\" x2=\"1\" y2=\"622.398\" gradientTransform=\"matrix(355.9158 -143.186 -143.186 -355.9158 89264.6719 221861.2031)\"><stop offset=\"0\" stop-color=\"#7384c0\"/><stop offset=\".029\" stop-color=\"#6d80bd\"/><stop offset=\".163\" stop-color=\"#586fb3\"/><stop offset=\".25\" stop-color=\"#5069af\"/><stop offset=\".336\" stop-color=\"#5069af\"/><stop offset=\".426\" stop-color=\"#5860a9\"/><stop offset=\".795\" stop-color=\"#764192\"/><stop offset=\"1\" stop-color=\"#81358a\"/></linearGradient><path d=\"M-102.1 77.2l557.7-224.4 251 623.9-557.7 224.4z\" clip-path=\"url(#H)\" fill=\"url(#I)\"/></svg>\n",
        "\n",
        "<svg style=\"display:inline-block;padding:10px 10px;\" height=70 xmlns=\"http://www.w3.org/2000/svg\" viewBox=\"0 0 607.6 165.9\" xmlns:v=\"https://vecta.io/nano\">\n",
        "<title>Corelia</title>\n",
        "<path d=\"M564 32.3l-46 99.1 1.3.2 4.5.5c2.6 0 3.4-1.2 5.1-5l2.3-4.9 5.6-12.2c.8-1.9 1.8-2.5 3.8-2.5h44.8.1c2 0 3 .6 3.8 2.5 1.8 4.3 3.7 8.6 5.6 12.8l2.1 4.8c1.9 4.4 2.3 4.6 7.1 4.4.4 0 .8-.1 1.3-.2.3-.1.6-.1.9-.2l1.2-.2L564 32.3zm20.5 67h-42c2.4-6.7 16.8-38.4 21.4-46.5l20.6 46.5zM152.4 33.5c-12.7-.2-25.3 4.9-34.6 14-9.6 9.4-14.9 22.1-14.9 35.8 0 13.3 5.3 26.3 14.5 35.6 9.2 9.2 21.6 14.3 34.9 14.3 27.6 0 49.3-21.8 49.4-49.6 0-13.7-5.2-26.5-14.7-35.9-9.2-9.2-21.9-14.4-34.6-14.2zm29.4 78.7c-7.9 8.1-18.7 12.8-29.6 12.8-19.9 0-41.3-16.8-41.3-41.8 0-11 4.4-21.4 12.3-29.3 7.8-7.8 18.1-12.1 28.8-12.1h.1c11.3 0 21.8 4.5 29.6 12.6 7.7 8 11.9 18.5 11.6 29v.1c.4 10.5-3.8 20.7-11.5 28.7zm78.7-22.6c4.6-.1 8.9-1.3 12.8-3.5 10.4-5.7 15.4-13.6 15.3-24.1-.1-8.9-4.2-16-12.4-21.7-5.5-3.8-12.2-5.8-19.9-5.9-7.4-.1-14.9-.1-22.1 0h-7.7c-.7 0-1.4 0-2.3.1-.5 0-1 .1-1.5.1l-.9.1v97.1h8.2v-15.2-30.1-13.9-29.7c.3 0 .6 0 .9-.1 1.1-.1 2-.1 2.9-.1h1 19.4c2.3 0 4.8.1 7.3.5 7.6 1.2 13.2 4.8 16.7 10.5 3.8 6.1 3.6 12.2-.4 18.1-3.3 4.8-7.7 7.8-13.3 9.1-6.3 1.5-12.8 1.5-18.9 1.5-1 0-2 0-3.2.1-.6 0-1.2.1-1.9.1l-1.9.1 1.2 1.5c.4.6.8 1.1 1.2 1.5.6.9 1.2 1.5 1.7 2.2l33.5 40.6c2.2 2.6 4.1 3.8 6.6 3.8 1.4 0 2.9-.4 4.8-1l1.3-.5-3.6-4.4-5.6-6.8-5.5-6.6-3-3.7c-.8-1-1.7-2-2.5-3-1.9-2.3-3.9-4.6-5.7-7-.8-1-1.7-2.1-2.6-3.1-1.6-1.9-3.3-3.9-4.8-6.1.3 0 .6-.1.9-.1 1.3-.2 2.7-.3 4-.4zm78.6 34.3h-5.9c-3.8 0-7.7.1-11.6-.1V87.6c4.5-.3 9.1-.2 13.5-.2h6.8l14.9-.1h6.6 1v-8.1H342h-3.4-7.6-3.2c-2.2 0-4.2.1-6.2-.2V42.9h23.1 12.6 5.9l12.6-.1h1v-8.2h-63.1v97.2h63.2v-8h-25.2c-4.2.1-8.4.1-12.6.1zM81.3 109.8c-5.6 6.4-11.9 10.7-19.2 13.1-7.7 2.5-15.6 2.7-23.4.6-7.6-2.1-14.2-6.1-19.6-12.1-14.6-16.2-14.6-40.5.1-56.6 7.3-8 18.1-13 29.1-13.3 11.5-.3 22.4 4.3 31.7 13.3l.7.7 5.6-4.9-.6-.7C73.9 35.3 51.9 29.5 33.4 36 13 43.2-.4 62.5 0 84.1c.6 26.2 18.9 42.8 36.8 47.5 4.2 1.1 8.3 1.6 12.3 1.6 16.7 0 31.4-8.6 38.3-18.7l.5-.8-6.1-4.6-.5.7zM462.7 124h-24.3-12.5c-4.1 0-8.1 0-12.3-.1h-4.7V34.8l-.9-.1c-.4 0-.7-.1-1-.1-.6-.1-1-.1-1.5-.1-.7 0-1.4 0-2.3.1-.4 0-.8 0-1.2.1h-.9v96.6l.8.2c2 .5 14.3.7 27.2.7 15.2 0 31.3-.3 33.2-.9l.7-.2-.3-7.1zM484.1 0c-5.5 0-10 4.5-10 9.9s4.5 9.9 10 9.9 10-4.5 10-9.9-4.5-9.9-10-9.9z\" fill=\"#553d8e\"/>\n",
        "<path d=\"M485.8 80.3c-1-11 .1-30.7.8-40.8.5-4 .5-6.4.5-6.6l-3-.1c0 .3-.2 2.7-.5 6.2-.6 4.5-1.8 11.2-4.4 19.1-4.5 13.5-3.6 28.7 2.4 40.8 9.5 19.1 14.9 33.5 14.9 33.7l2.8-1c-.1-.3-12.2-36.9-13.5-51.3z\" fill=\"#00a099\"/>\n",
        "</svg>\n",
        "\n",
        "<center><h1 style=\"color:#00a099;\">Emotions Detection From Text<h1><center>\n",
        "</div>"
      ]
    },
    {
      "cell_type": "markdown",
      "metadata": {
        "id": "NfwUH7sBP3S9"
      },
      "source": [
        "<style>\n",
        ".header {width:100%;\n",
        "background:linear-gradient(to right,#5A4A9A,#4673B1,#339BA0,#7FC3B5);\n",
        "color: white;\n",
        "text-align: center;\n",
        "border-radius: 10px;\n",
        "height: 50px;\n",
        "}\n",
        "</style>\n",
        "<h1 class=\"header\">Introduction</h1>"
      ]
    },
    {
      "cell_type": "markdown",
      "metadata": {
        "id": "rerLDSVMP3S_"
      },
      "source": [
        "* Importing Necessary Libraries\n",
        "* Data Sources\n",
        "* Data Analysis\n",
        "* Data Pre-processing\n",
        "* Model Stucturing\n",
        "* Model Training\n",
        "* Model Evaluation\n",
        "* Saving Models\n",
        "* Model Deployment"
      ]
    },
    {
      "cell_type": "markdown",
      "metadata": {
        "id": "_3qOUJ_VP3TA"
      },
      "source": [
        "<style>\n",
        ".header {width:100%;\n",
        "background:linear-gradient(to right,#5A4A9A,#4673B1,#339BA0,#7FC3B5);\n",
        "color: white;\n",
        "text-align: center;\n",
        "border-radius: 10px;\n",
        "height: 50px;\n",
        "}\n",
        "</style>\n",
        "<h1 class=\"header\">Importing Necessary Libraries</h1>"
      ]
    },
    {
      "cell_type": "code",
      "execution_count": 2,
      "metadata": {
        "id": "9jnKUOp7P3TB"
      },
      "outputs": [],
      "source": [
        "import numpy as np\n",
        "import pandas as pd\n",
        "import matplotlib.pyplot as plt\n",
        "import seaborn as sns\n",
        "import re\n",
        "import json\n",
        "import os"
      ]
    },
    {
      "cell_type": "code",
      "execution_count": 3,
      "metadata": {
        "id": "xT0uVbf8P3TE"
      },
      "outputs": [],
      "source": [
        "from sklearn.model_selection import train_test_split\n",
        "from sklearn.metrics import confusion_matrix,accuracy_score,recall_score,precision_score,classification_report"
      ]
    },
    {
      "cell_type": "code",
      "execution_count": 4,
      "metadata": {
        "colab": {
          "base_uri": "https://localhost:8080/"
        },
        "id": "I2pvf-q9P3TF",
        "outputId": "34226a38-34c2-4c73-8691-18836115b112"
      },
      "outputs": [
        {
          "name": "stdout",
          "output_type": "stream",
          "text": [
            "[nltk_data] Downloading package stopwords to /root/nltk_data...\n",
            "[nltk_data]   Package stopwords is already up-to-date!\n"
          ]
        },
        {
          "data": {
            "text/plain": [
              "True"
            ]
          },
          "execution_count": 4,
          "metadata": {},
          "output_type": "execute_result"
        }
      ],
      "source": [
        "from nltk.corpus import stopwords\n",
        "from  nltk.stem import SnowballStemmer\n",
        "from nltk import download as nltkdownload\n",
        "nltkdownload('stopwords')"
      ]
    },
    {
      "cell_type": "code",
      "execution_count": 5,
      "metadata": {
        "id": "FPk4BW-xP3TH"
      },
      "outputs": [],
      "source": [
        "from keras.preprocessing.text import Tokenizer\n",
        "from keras.preprocessing.sequence import pad_sequences\n",
        "\n",
        "from tensorflow.keras import layers, Sequential ,callbacks,metrics,losses,optimizers\n",
        "from tensorflow.keras.regularizers import l2\n",
        "import tensorflowjs as tfjs"
      ]
    },
    {
      "cell_type": "markdown",
      "metadata": {
        "id": "QUJJ3KlyP3TI"
      },
      "source": [
        "<style>\n",
        ".header {width:100%;\n",
        "background:linear-gradient(to right,#5A4A9A,#4673B1,#339BA0,#7FC3B5);\n",
        "color: white;\n",
        "text-align: center;\n",
        "border-radius: 10px;\n",
        "height: 50px;\n",
        "}\n",
        "</style>\n",
        "<h1 class=\"header\">Data Sources</h1>"
      ]
    },
    {
      "cell_type": "markdown",
      "metadata": {
        "id": "c1b9q73MP3TJ"
      },
      "source": [
        "The data is collected from the following sources\n",
        "\n",
        "* [DailyDialog](http://yanran.li/dailydialog.html)\n",
        "* [We Feel Fine API](http://www.wefeelfine.org/api.html)\n",
        "* [Emotion Stimulus](https://www.site.uottawa.ca/~diana/resources/emotion_stimulus_data/)\n",
        "* [International Survey On Emotion Antecedents And Reactions (ISEAR)](https://www.unige.ch/cisa/research/materials-and-online-research/research-material/)\n",
        "\n",
        "And merged into one Data-Frame, You can view the full Process in the following window from the original repo [Source Here](https://github.com/abdelrahmanfekryy/Data_Gathering_And_Extraction/tree/main/Emotions_Text_Data)"
      ]
    },
    {
      "cell_type": "markdown",
      "metadata": {
        "id": "yYGIdgNvP3TK"
      },
      "source": [
        "<div class=\"aspect-ratio\">\n",
        "  <iframe style=\"border-radius: 10px;\" src=\"https://abdelrahmanfekryy.github.io/Data_Gathering_And_Extraction/Emotions_Text_Data/\" width=\"100%\" height=\"500\" frameborder=\"0\"></iframe>\n",
        "</div>\n",
        "\n"
      ]
    },
    {
      "cell_type": "markdown",
      "metadata": {
        "id": "IfzWmZM8P3TL"
      },
      "source": [
        "<style>\n",
        ".header {width:100%;\n",
        "background:linear-gradient(to right,#5A4A9A,#4673B1,#339BA0,#7FC3B5);\n",
        "color: white;\n",
        "text-align: center;\n",
        "border-radius: 10px;\n",
        "height: 50px;\n",
        "}\n",
        "</style>\n",
        "<h1 class=\"header\">Data Analysis</h1>"
      ]
    },
    {
      "cell_type": "code",
      "execution_count": 6,
      "metadata": {
        "colab": {
          "base_uri": "https://localhost:8080/",
          "height": 206
        },
        "id": "W4ruV_ehP3TL",
        "outputId": "014972fa-7d0a-44ca-c6e5-01ec8c361bf1"
      },
      "outputs": [
        {
          "data": {
            "text/html": [
              "\n",
              "  <div id=\"df-3cec8dc8-c4e1-4b8b-905a-5dbcd00c76a2\">\n",
              "    <div class=\"colab-df-container\">\n",
              "      <div>\n",
              "<style scoped>\n",
              "    .dataframe tbody tr th:only-of-type {\n",
              "        vertical-align: middle;\n",
              "    }\n",
              "\n",
              "    .dataframe tbody tr th {\n",
              "        vertical-align: top;\n",
              "    }\n",
              "\n",
              "    .dataframe thead th {\n",
              "        text-align: right;\n",
              "    }\n",
              "</style>\n",
              "<table border=\"1\" class=\"dataframe\">\n",
              "  <thead>\n",
              "    <tr style=\"text-align: right;\">\n",
              "      <th></th>\n",
              "      <th>Emotion</th>\n",
              "      <th>Text</th>\n",
              "    </tr>\n",
              "  </thead>\n",
              "  <tbody>\n",
              "    <tr>\n",
              "      <th>0</th>\n",
              "      <td>happy</td>\n",
              "      <td>During the period of falling in love, each tim...</td>\n",
              "    </tr>\n",
              "    <tr>\n",
              "      <th>1</th>\n",
              "      <td>anger</td>\n",
              "      <td>When I was driving home after  several days of...</td>\n",
              "    </tr>\n",
              "    <tr>\n",
              "      <th>2</th>\n",
              "      <td>sad</td>\n",
              "      <td>When I lost the person who meant the most to me.</td>\n",
              "    </tr>\n",
              "    <tr>\n",
              "      <th>3</th>\n",
              "      <td>happy</td>\n",
              "      <td>When I got a letter offering me the Summer job...</td>\n",
              "    </tr>\n",
              "    <tr>\n",
              "      <th>4</th>\n",
              "      <td>anger</td>\n",
              "      <td>When I was talking to HIM at a party for the f...</td>\n",
              "    </tr>\n",
              "  </tbody>\n",
              "</table>\n",
              "</div>\n",
              "      <button class=\"colab-df-convert\" onclick=\"convertToInteractive('df-3cec8dc8-c4e1-4b8b-905a-5dbcd00c76a2')\"\n",
              "              title=\"Convert this dataframe to an interactive table.\"\n",
              "              style=\"display:none;\">\n",
              "        \n",
              "  <svg xmlns=\"http://www.w3.org/2000/svg\" height=\"24px\"viewBox=\"0 0 24 24\"\n",
              "       width=\"24px\">\n",
              "    <path d=\"M0 0h24v24H0V0z\" fill=\"none\"/>\n",
              "    <path d=\"M18.56 5.44l.94 2.06.94-2.06 2.06-.94-2.06-.94-.94-2.06-.94 2.06-2.06.94zm-11 1L8.5 8.5l.94-2.06 2.06-.94-2.06-.94L8.5 2.5l-.94 2.06-2.06.94zm10 10l.94 2.06.94-2.06 2.06-.94-2.06-.94-.94-2.06-.94 2.06-2.06.94z\"/><path d=\"M17.41 7.96l-1.37-1.37c-.4-.4-.92-.59-1.43-.59-.52 0-1.04.2-1.43.59L10.3 9.45l-7.72 7.72c-.78.78-.78 2.05 0 2.83L4 21.41c.39.39.9.59 1.41.59.51 0 1.02-.2 1.41-.59l7.78-7.78 2.81-2.81c.8-.78.8-2.07 0-2.86zM5.41 20L4 18.59l7.72-7.72 1.47 1.35L5.41 20z\"/>\n",
              "  </svg>\n",
              "      </button>\n",
              "      \n",
              "  <style>\n",
              "    .colab-df-container {\n",
              "      display:flex;\n",
              "      flex-wrap:wrap;\n",
              "      gap: 12px;\n",
              "    }\n",
              "\n",
              "    .colab-df-convert {\n",
              "      background-color: #E8F0FE;\n",
              "      border: none;\n",
              "      border-radius: 50%;\n",
              "      cursor: pointer;\n",
              "      display: none;\n",
              "      fill: #1967D2;\n",
              "      height: 32px;\n",
              "      padding: 0 0 0 0;\n",
              "      width: 32px;\n",
              "    }\n",
              "\n",
              "    .colab-df-convert:hover {\n",
              "      background-color: #E2EBFA;\n",
              "      box-shadow: 0px 1px 2px rgba(60, 64, 67, 0.3), 0px 1px 3px 1px rgba(60, 64, 67, 0.15);\n",
              "      fill: #174EA6;\n",
              "    }\n",
              "\n",
              "    [theme=dark] .colab-df-convert {\n",
              "      background-color: #3B4455;\n",
              "      fill: #D2E3FC;\n",
              "    }\n",
              "\n",
              "    [theme=dark] .colab-df-convert:hover {\n",
              "      background-color: #434B5C;\n",
              "      box-shadow: 0px 1px 3px 1px rgba(0, 0, 0, 0.15);\n",
              "      filter: drop-shadow(0px 1px 2px rgba(0, 0, 0, 0.3));\n",
              "      fill: #FFFFFF;\n",
              "    }\n",
              "  </style>\n",
              "\n",
              "      <script>\n",
              "        const buttonEl =\n",
              "          document.querySelector('#df-3cec8dc8-c4e1-4b8b-905a-5dbcd00c76a2 button.colab-df-convert');\n",
              "        buttonEl.style.display =\n",
              "          google.colab.kernel.accessAllowed ? 'block' : 'none';\n",
              "\n",
              "        async function convertToInteractive(key) {\n",
              "          const element = document.querySelector('#df-3cec8dc8-c4e1-4b8b-905a-5dbcd00c76a2');\n",
              "          const dataTable =\n",
              "            await google.colab.kernel.invokeFunction('convertToInteractive',\n",
              "                                                     [key], {});\n",
              "          if (!dataTable) return;\n",
              "\n",
              "          const docLinkHtml = 'Like what you see? Visit the ' +\n",
              "            '<a target=\"_blank\" href=https://colab.research.google.com/notebooks/data_table.ipynb>data table notebook</a>'\n",
              "            + ' to learn more about interactive tables.';\n",
              "          element.innerHTML = '';\n",
              "          dataTable['output_type'] = 'display_data';\n",
              "          await google.colab.output.renderOutput(dataTable, element);\n",
              "          const docLink = document.createElement('div');\n",
              "          docLink.innerHTML = docLinkHtml;\n",
              "          element.appendChild(docLink);\n",
              "        }\n",
              "      </script>\n",
              "    </div>\n",
              "  </div>\n",
              "  "
            ],
            "text/plain": [
              "  Emotion                                               Text\n",
              "0   happy  During the period of falling in love, each tim...\n",
              "1   anger  When I was driving home after  several days of...\n",
              "2     sad  When I lost the person who meant the most to me. \n",
              "3   happy  When I got a letter offering me the Summer job...\n",
              "4   anger  When I was talking to HIM at a party for the f..."
            ]
          },
          "execution_count": 6,
          "metadata": {},
          "output_type": "execute_result"
        }
      ],
      "source": [
        "df = pd.read_csv(\"https://raw.githubusercontent.com/abdelrahmanfekryy/Data_Gathering_And_Extraction/main/Emotions_Text_Data/Output/data.csv\")\n",
        "df.head()"
      ]
    },
    {
      "cell_type": "markdown",
      "metadata": {
        "id": "dF0hP6imP3TM"
      },
      "source": [
        "## Class Imbalance Check"
      ]
    },
    {
      "cell_type": "code",
      "execution_count": 7,
      "metadata": {
        "colab": {
          "base_uri": "https://localhost:8080/",
          "height": 404
        },
        "id": "18onyRsxP3TM",
        "outputId": "ca41b6f0-3cdf-4a79-f95b-830addfe0a1c"
      },
      "outputs": [
        {
          "data": {
            "image/png": "[encoded data removed]",
            "text/plain": [
              "<Figure size 720x432 with 1 Axes>"
            ]
          },
          "metadata": {
            "needs_background": "light"
          },
          "output_type": "display_data"
        }
      ],
      "source": [
        "plt.figure(figsize=(10,6))\n",
        "sns.countplot(x=df['Emotion'],color='#808080')\n",
        "plt.title('Class Imbalance Check')\n",
        "plt.xlabel('Classes')\n",
        "plt.gca().spines['right'].set_visible(False)\n",
        "plt.gca().spines['top'].set_visible(False)\n",
        "plt.grid(axis='y', alpha=0.75)\n",
        "plt.gca().set_axisbelow(True)\n",
        "plt.show()"
      ]
    },
    {
      "cell_type": "code",
      "execution_count": 8,
      "metadata": {
        "id": "VB42qKTcP3TN"
      },
      "outputs": [],
      "source": [
        "df_balanced = pd.concat([df[df['Emotion'] == 'neutral'][:60000],df[df['Emotion'] == 'happy'][:60000],df[df['Emotion'] == 'sad'][:60000],df[df['Emotion'] == 'anger']])"
      ]
    },
    {
      "cell_type": "code",
      "execution_count": 9,
      "metadata": {
        "colab": {
          "base_uri": "https://localhost:8080/",
          "height": 404
        },
        "id": "VVhdc0ttP3TN",
        "outputId": "5f9d7d1b-420e-44c5-d447-fa0837c0136b"
      },
      "outputs": [
        {
          "data": {
            "image/png": "[encoded data removed]",
            "text/plain": [
              "<Figure size 720x432 with 1 Axes>"
            ]
          },
          "metadata": {
            "needs_background": "light"
          },
          "output_type": "display_data"
        }
      ],
      "source": [
        "plt.figure(figsize=(10,6))\n",
        "sns.countplot(x=df_balanced['Emotion'],color='#808080')\n",
        "plt.title('Class Imbalance Check')\n",
        "plt.xlabel('Classes')\n",
        "plt.gca().spines['right'].set_visible(False)\n",
        "plt.gca().spines['top'].set_visible(False)\n",
        "plt.grid(axis='y', alpha=0.75)\n",
        "plt.gca().set_axisbelow(True)\n",
        "plt.show()"
      ]
    },
    {
      "cell_type": "markdown",
      "metadata": {
        "id": "t2nYkv9FP3TO"
      },
      "source": [
        "<style>\n",
        ".header {width:100%;\n",
        "background:linear-gradient(to right,#5A4A9A,#4673B1,#339BA0,#7FC3B5);\n",
        "color: white;\n",
        "text-align: center;\n",
        "border-radius: 10px;\n",
        "height: 50px;\n",
        "}\n",
        "</style>\n",
        "<h1 class=\"header\">Data Pre-processing</h1>"
      ]
    },
    {
      "cell_type": "code",
      "execution_count": 10,
      "metadata": {
        "id": "Ffwj9RRTP3TO"
      },
      "outputs": [],
      "source": [
        "def preprocess(text,stem=False):\n",
        "    # Remove link,user and special characters\n",
        "    text = re.sub(\"@\\S+|https?:\\S+|http?:\\S|[^A-Za-z0-9]+\", ' ', str(text).lower()).strip()\n",
        "    if stem:\n",
        "        return \" \".join([SnowballStemmer(\"english\").stem(token) for token in text.split() if token not in stopwords.words(\"english\")])\n",
        "    else:\n",
        "        return \" \".join([token for token in text.split() if token not in stopwords.words(\"english\")])"
      ]
    },
    {
      "cell_type": "code",
      "execution_count": 11,
      "metadata": {
        "id": "0hNddWNHP3TP"
      },
      "outputs": [],
      "source": [
        "data_dir = 'Pre_Processed_Data'\n",
        "if not os.path.exists(data_dir):\n",
        "    os.makedirs(data_dir)\n",
        "    df_balanced.loc[:,'Text'] = df_balanced['Text'].apply(preprocess)\n",
        "    df_balanced.to_csv(f\"{data_dir}/data.csv\",index=False)\n",
        "else:\n",
        "    df_balanced = pd.read_csv(f\"{data_dir}/data.csv\")"
      ]
    },
    {
      "cell_type": "code",
      "execution_count": 12,
      "metadata": {
        "colab": {
          "base_uri": "https://localhost:8080/",
          "height": 206
        },
        "id": "MIHCwxfDP3TP",
        "outputId": "35f2d2a9-6f9e-4dd2-c464-6896a9ca3bfd"
      },
      "outputs": [
        {
          "data": {
            "text/html": [
              "\n",
              "  <div id=\"df-874a9506-cb9b-4e44-87a4-7f13d25d2160\">\n",
              "    <div class=\"colab-df-container\">\n",
              "      <div>\n",
              "<style scoped>\n",
              "    .dataframe tbody tr th:only-of-type {\n",
              "        vertical-align: middle;\n",
              "    }\n",
              "\n",
              "    .dataframe tbody tr th {\n",
              "        vertical-align: top;\n",
              "    }\n",
              "\n",
              "    .dataframe thead th {\n",
              "        text-align: right;\n",
              "    }\n",
              "</style>\n",
              "<table border=\"1\" class=\"dataframe\">\n",
              "  <thead>\n",
              "    <tr style=\"text-align: right;\">\n",
              "      <th></th>\n",
              "      <th>Emotion</th>\n",
              "      <th>Text</th>\n",
              "    </tr>\n",
              "  </thead>\n",
              "  <tbody>\n",
              "    <tr>\n",
              "      <th>0</th>\n",
              "      <td>neutral</td>\n",
              "      <td>say jim going beers dinner</td>\n",
              "    </tr>\n",
              "    <tr>\n",
              "      <th>1</th>\n",
              "      <td>neutral</td>\n",
              "      <td>know tempting really good fitness</td>\n",
              "    </tr>\n",
              "    <tr>\n",
              "      <th>2</th>\n",
              "      <td>neutral</td>\n",
              "      <td>mean help us relax</td>\n",
              "    </tr>\n",
              "    <tr>\n",
              "      <th>3</th>\n",
              "      <td>neutral</td>\n",
              "      <td>really think make us fat act silly remember la...</td>\n",
              "    </tr>\n",
              "    <tr>\n",
              "      <th>4</th>\n",
              "      <td>neutral</td>\n",
              "      <td>guess right shall feel like sitting home</td>\n",
              "    </tr>\n",
              "  </tbody>\n",
              "</table>\n",
              "</div>\n",
              "      <button class=\"colab-df-convert\" onclick=\"convertToInteractive('df-874a9506-cb9b-4e44-87a4-7f13d25d2160')\"\n",
              "              title=\"Convert this dataframe to an interactive table.\"\n",
              "              style=\"display:none;\">\n",
              "        \n",
              "  <svg xmlns=\"http://www.w3.org/2000/svg\" height=\"24px\"viewBox=\"0 0 24 24\"\n",
              "       width=\"24px\">\n",
              "    <path d=\"M0 0h24v24H0V0z\" fill=\"none\"/>\n",
              "    <path d=\"M18.56 5.44l.94 2.06.94-2.06 2.06-.94-2.06-.94-.94-2.06-.94 2.06-2.06.94zm-11 1L8.5 8.5l.94-2.06 2.06-.94-2.06-.94L8.5 2.5l-.94 2.06-2.06.94zm10 10l.94 2.06.94-2.06 2.06-.94-2.06-.94-.94-2.06-.94 2.06-2.06.94z\"/><path d=\"M17.41 7.96l-1.37-1.37c-.4-.4-.92-.59-1.43-.59-.52 0-1.04.2-1.43.59L10.3 9.45l-7.72 7.72c-.78.78-.78 2.05 0 2.83L4 21.41c.39.39.9.59 1.41.59.51 0 1.02-.2 1.41-.59l7.78-7.78 2.81-2.81c.8-.78.8-2.07 0-2.86zM5.41 20L4 18.59l7.72-7.72 1.47 1.35L5.41 20z\"/>\n",
              "  </svg>\n",
              "      </button>\n",
              "      \n",
              "  <style>\n",
              "    .colab-df-container {\n",
              "      display:flex;\n",
              "      flex-wrap:wrap;\n",
              "      gap: 12px;\n",
              "    }\n",
              "\n",
              "    .colab-df-convert {\n",
              "      background-color: #E8F0FE;\n",
              "      border: none;\n",
              "      border-radius: 50%;\n",
              "      cursor: pointer;\n",
              "      display: none;\n",
              "      fill: #1967D2;\n",
              "      height: 32px;\n",
              "      padding: 0 0 0 0;\n",
              "      width: 32px;\n",
              "    }\n",
              "\n",
              "    .colab-df-convert:hover {\n",
              "      background-color: #E2EBFA;\n",
              "      box-shadow: 0px 1px 2px rgba(60, 64, 67, 0.3), 0px 1px 3px 1px rgba(60, 64, 67, 0.15);\n",
              "      fill: #174EA6;\n",
              "    }\n",
              "\n",
              "    [theme=dark] .colab-df-convert {\n",
              "      background-color: #3B4455;\n",
              "      fill: #D2E3FC;\n",
              "    }\n",
              "\n",
              "    [theme=dark] .colab-df-convert:hover {\n",
              "      background-color: #434B5C;\n",
              "      box-shadow: 0px 1px 3px 1px rgba(0, 0, 0, 0.15);\n",
              "      filter: drop-shadow(0px 1px 2px rgba(0, 0, 0, 0.3));\n",
              "      fill: #FFFFFF;\n",
              "    }\n",
              "  </style>\n",
              "\n",
              "      <script>\n",
              "        const buttonEl =\n",
              "          document.querySelector('#df-874a9506-cb9b-4e44-87a4-7f13d25d2160 button.colab-df-convert');\n",
              "        buttonEl.style.display =\n",
              "          google.colab.kernel.accessAllowed ? 'block' : 'none';\n",
              "\n",
              "        async function convertToInteractive(key) {\n",
              "          const element = document.querySelector('#df-874a9506-cb9b-4e44-87a4-7f13d25d2160');\n",
              "          const dataTable =\n",
              "            await google.colab.kernel.invokeFunction('convertToInteractive',\n",
              "                                                     [key], {});\n",
              "          if (!dataTable) return;\n",
              "\n",
              "          const docLinkHtml = 'Like what you see? Visit the ' +\n",
              "            '<a target=\"_blank\" href=https://colab.research.google.com/notebooks/data_table.ipynb>data table notebook</a>'\n",
              "            + ' to learn more about interactive tables.';\n",
              "          element.innerHTML = '';\n",
              "          dataTable['output_type'] = 'display_data';\n",
              "          await google.colab.output.renderOutput(dataTable, element);\n",
              "          const docLink = document.createElement('div');\n",
              "          docLink.innerHTML = docLinkHtml;\n",
              "          element.appendChild(docLink);\n",
              "        }\n",
              "      </script>\n",
              "    </div>\n",
              "  </div>\n",
              "  "
            ],
            "text/plain": [
              "   Emotion                                               Text\n",
              "0  neutral                         say jim going beers dinner\n",
              "1  neutral                  know tempting really good fitness\n",
              "2  neutral                                 mean help us relax\n",
              "3  neutral  really think make us fat act silly remember la...\n",
              "4  neutral           guess right shall feel like sitting home"
            ]
          },
          "execution_count": 12,
          "metadata": {},
          "output_type": "execute_result"
        }
      ],
      "source": [
        "df_balanced.head()"
      ]
    },
    {
      "cell_type": "markdown",
      "metadata": {
        "_uuid": "f5f9714a8507409bbe780eebf2855a33e8e6ba37",
        "id": "W58lIeIBP3TQ",
        "trusted": true
      },
      "source": [
        "# Split Train & Test"
      ]
    },
    {
      "cell_type": "code",
      "execution_count": 13,
      "metadata": {
        "id": "xOrzk2gVP3TQ"
      },
      "outputs": [],
      "source": [
        "x_train, x_test, y_train, y_test = train_test_split(df_balanced['Text'].astype(str), df_balanced['Emotion'], test_size=0.3, random_state=0, stratify=df_balanced['Emotion'])"
      ]
    },
    {
      "cell_type": "code",
      "execution_count": 14,
      "metadata": {
        "colab": {
          "base_uri": "https://localhost:8080/"
        },
        "id": "u_X_7BF0P3TQ",
        "outputId": "b224cba6-aeb2-43c5-e0f8-4adf952aea9a"
      },
      "outputs": [
        {
          "data": {
            "text/plain": [
              "happy      42000\n",
              "neutral    42000\n",
              "sad        42000\n",
              "anger      39143\n",
              "Name: Emotion, dtype: int64"
            ]
          },
          "execution_count": 14,
          "metadata": {},
          "output_type": "execute_result"
        }
      ],
      "source": [
        "y_train.value_counts()"
      ]
    },
    {
      "cell_type": "markdown",
      "metadata": {
        "id": "jPxOqOH7P3TR"
      },
      "source": [
        "# Tokenization"
      ]
    },
    {
      "cell_type": "code",
      "execution_count": 15,
      "metadata": {
        "colab": {
          "base_uri": "https://localhost:8080/"
        },
        "id": "qkiIA0d4P3TR",
        "outputId": "41c7977b-461c-40b2-f3df-5e234bb0c81c"
      },
      "outputs": [
        {
          "name": "stdout",
          "output_type": "stream",
          "text": [
            "No. unique words: 45074\n"
          ]
        }
      ],
      "source": [
        "tokenizer = Tokenizer()\n",
        "tokenizer.fit_on_texts(x_train)\n",
        "\n",
        "sequence_train = tokenizer.texts_to_sequences(x_train)\n",
        "sequence_test = tokenizer.texts_to_sequences(x_test)\n",
        "\n",
        "# vacab size is number of unique words + reserved 0 index for padding\n",
        "vocab_size = len(tokenizer.word_index) + 1\n",
        "\n",
        "print(f'No. unique words: {len(tokenizer.word_index)}')"
      ]
    },
    {
      "cell_type": "code",
      "execution_count": 16,
      "metadata": {
        "colab": {
          "base_uri": "https://localhost:8080/"
        },
        "id": "2PX458c0P3TS",
        "outputId": "19b64067-0003-45b9-83a3-81d79fe7aa47"
      },
      "outputs": [
        {
          "data": {
            "text/plain": [
              "array([[    0,     0,     0, ...,  1850,  1489,  3631],\n",
              "       [    0,     0,     0, ...,  2276,    68,   402],\n",
              "       [    0,     0,     0, ...,     1,     3,   452],\n",
              "       ...,\n",
              "       [    0,     0,     0, ...,    97,   710, 13771],\n",
              "       [    0,     0,     0, ...,    94,   410,    45],\n",
              "       [    0,     0,     0, ...,  2066, 45074,  3057]], dtype=int32)"
            ]
          },
          "execution_count": 16,
          "metadata": {},
          "output_type": "execute_result"
        }
      ],
      "source": [
        "# Max input length = 300 (max number of words = 300) \n",
        "x_train_padded = pad_sequences(sequence_train, maxlen = 300 )\n",
        "x_test_padded = pad_sequences(sequence_test, maxlen = 300 )\n",
        "\n",
        "x_train_padded"
      ]
    },
    {
      "cell_type": "markdown",
      "metadata": {
        "id": "93GLhDluP3TS"
      },
      "source": [
        "# Categorize labels"
      ]
    },
    {
      "cell_type": "code",
      "execution_count": 17,
      "metadata": {
        "colab": {
          "base_uri": "https://localhost:8080/",
          "height": 206
        },
        "id": "XcSEDjubP3TS",
        "outputId": "dfaa991a-0073-403e-a3f9-8cd3767eeb94"
      },
      "outputs": [
        {
          "data": {
            "text/html": [
              "\n",
              "  <div id=\"df-a2b45dcc-645d-4f5d-a370-9b9a5293c97f\">\n",
              "    <div class=\"colab-df-container\">\n",
              "      <div>\n",
              "<style scoped>\n",
              "    .dataframe tbody tr th:only-of-type {\n",
              "        vertical-align: middle;\n",
              "    }\n",
              "\n",
              "    .dataframe tbody tr th {\n",
              "        vertical-align: top;\n",
              "    }\n",
              "\n",
              "    .dataframe thead th {\n",
              "        text-align: right;\n",
              "    }\n",
              "</style>\n",
              "<table border=\"1\" class=\"dataframe\">\n",
              "  <thead>\n",
              "    <tr style=\"text-align: right;\">\n",
              "      <th></th>\n",
              "      <th>happy</th>\n",
              "      <th>neutral</th>\n",
              "      <th>sad</th>\n",
              "      <th>anger</th>\n",
              "    </tr>\n",
              "  </thead>\n",
              "  <tbody>\n",
              "    <tr>\n",
              "      <th>0</th>\n",
              "      <td>1</td>\n",
              "      <td>0</td>\n",
              "      <td>0</td>\n",
              "      <td>0</td>\n",
              "    </tr>\n",
              "    <tr>\n",
              "      <th>1</th>\n",
              "      <td>0</td>\n",
              "      <td>1</td>\n",
              "      <td>0</td>\n",
              "      <td>0</td>\n",
              "    </tr>\n",
              "    <tr>\n",
              "      <th>2</th>\n",
              "      <td>0</td>\n",
              "      <td>0</td>\n",
              "      <td>0</td>\n",
              "      <td>1</td>\n",
              "    </tr>\n",
              "    <tr>\n",
              "      <th>3</th>\n",
              "      <td>0</td>\n",
              "      <td>1</td>\n",
              "      <td>0</td>\n",
              "      <td>0</td>\n",
              "    </tr>\n",
              "    <tr>\n",
              "      <th>4</th>\n",
              "      <td>0</td>\n",
              "      <td>0</td>\n",
              "      <td>0</td>\n",
              "      <td>1</td>\n",
              "    </tr>\n",
              "  </tbody>\n",
              "</table>\n",
              "</div>\n",
              "      <button class=\"colab-df-convert\" onclick=\"convertToInteractive('df-a2b45dcc-645d-4f5d-a370-9b9a5293c97f')\"\n",
              "              title=\"Convert this dataframe to an interactive table.\"\n",
              "              style=\"display:none;\">\n",
              "        \n",
              "  <svg xmlns=\"http://www.w3.org/2000/svg\" height=\"24px\"viewBox=\"0 0 24 24\"\n",
              "       width=\"24px\">\n",
              "    <path d=\"M0 0h24v24H0V0z\" fill=\"none\"/>\n",
              "    <path d=\"M18.56 5.44l.94 2.06.94-2.06 2.06-.94-2.06-.94-.94-2.06-.94 2.06-2.06.94zm-11 1L8.5 8.5l.94-2.06 2.06-.94-2.06-.94L8.5 2.5l-.94 2.06-2.06.94zm10 10l.94 2.06.94-2.06 2.06-.94-2.06-.94-.94-2.06-.94 2.06-2.06.94z\"/><path d=\"M17.41 7.96l-1.37-1.37c-.4-.4-.92-.59-1.43-.59-.52 0-1.04.2-1.43.59L10.3 9.45l-7.72 7.72c-.78.78-.78 2.05 0 2.83L4 21.41c.39.39.9.59 1.41.59.51 0 1.02-.2 1.41-.59l7.78-7.78 2.81-2.81c.8-.78.8-2.07 0-2.86zM5.41 20L4 18.59l7.72-7.72 1.47 1.35L5.41 20z\"/>\n",
              "  </svg>\n",
              "      </button>\n",
              "      \n",
              "  <style>\n",
              "    .colab-df-container {\n",
              "      display:flex;\n",
              "      flex-wrap:wrap;\n",
              "      gap: 12px;\n",
              "    }\n",
              "\n",
              "    .colab-df-convert {\n",
              "      background-color: #E8F0FE;\n",
              "      border: none;\n",
              "      border-radius: 50%;\n",
              "      cursor: pointer;\n",
              "      display: none;\n",
              "      fill: #1967D2;\n",
              "      height: 32px;\n",
              "      padding: 0 0 0 0;\n",
              "      width: 32px;\n",
              "    }\n",
              "\n",
              "    .colab-df-convert:hover {\n",
              "      background-color: #E2EBFA;\n",
              "      box-shadow: 0px 1px 2px rgba(60, 64, 67, 0.3), 0px 1px 3px 1px rgba(60, 64, 67, 0.15);\n",
              "      fill: #174EA6;\n",
              "    }\n",
              "\n",
              "    [theme=dark] .colab-df-convert {\n",
              "      background-color: #3B4455;\n",
              "      fill: #D2E3FC;\n",
              "    }\n",
              "\n",
              "    [theme=dark] .colab-df-convert:hover {\n",
              "      background-color: #434B5C;\n",
              "      box-shadow: 0px 1px 3px 1px rgba(0, 0, 0, 0.15);\n",
              "      filter: drop-shadow(0px 1px 2px rgba(0, 0, 0, 0.3));\n",
              "      fill: #FFFFFF;\n",
              "    }\n",
              "  </style>\n",
              "\n",
              "      <script>\n",
              "        const buttonEl =\n",
              "          document.querySelector('#df-a2b45dcc-645d-4f5d-a370-9b9a5293c97f button.colab-df-convert');\n",
              "        buttonEl.style.display =\n",
              "          google.colab.kernel.accessAllowed ? 'block' : 'none';\n",
              "\n",
              "        async function convertToInteractive(key) {\n",
              "          const element = document.querySelector('#df-a2b45dcc-645d-4f5d-a370-9b9a5293c97f');\n",
              "          const dataTable =\n",
              "            await google.colab.kernel.invokeFunction('convertToInteractive',\n",
              "                                                     [key], {});\n",
              "          if (!dataTable) return;\n",
              "\n",
              "          const docLinkHtml = 'Like what you see? Visit the ' +\n",
              "            '<a target=\"_blank\" href=https://colab.research.google.com/notebooks/data_table.ipynb>data table notebook</a>'\n",
              "            + ' to learn more about interactive tables.';\n",
              "          element.innerHTML = '';\n",
              "          dataTable['output_type'] = 'display_data';\n",
              "          await google.colab.output.renderOutput(dataTable, element);\n",
              "          const docLink = document.createElement('div');\n",
              "          docLink.innerHTML = docLinkHtml;\n",
              "          element.appendChild(docLink);\n",
              "        }\n",
              "      </script>\n",
              "    </div>\n",
              "  </div>\n",
              "  "
            ],
            "text/plain": [
              "   happy  neutral  sad  anger\n",
              "0      1        0    0      0\n",
              "1      0        1    0      0\n",
              "2      0        0    0      1\n",
              "3      0        1    0      0\n",
              "4      0        0    0      1"
            ]
          },
          "execution_count": 17,
          "metadata": {},
          "output_type": "execute_result"
        }
      ],
      "source": [
        "y_train_oneHot = pd.get_dummies(y_train).reset_index(drop=True)[['happy','neutral','sad','anger']]\n",
        "y_train_oneHot.head()"
      ]
    },
    {
      "cell_type": "code",
      "execution_count": 18,
      "metadata": {
        "colab": {
          "base_uri": "https://localhost:8080/",
          "height": 206
        },
        "id": "FhQtvZfzP3TT",
        "outputId": "239203df-3077-4e9a-a90a-e5645ccf1be9"
      },
      "outputs": [
        {
          "data": {
            "text/html": [
              "\n",
              "  <div id=\"df-aa550c9c-7bab-42e2-b754-e0a5e5a3ef53\">\n",
              "    <div class=\"colab-df-container\">\n",
              "      <div>\n",
              "<style scoped>\n",
              "    .dataframe tbody tr th:only-of-type {\n",
              "        vertical-align: middle;\n",
              "    }\n",
              "\n",
              "    .dataframe tbody tr th {\n",
              "        vertical-align: top;\n",
              "    }\n",
              "\n",
              "    .dataframe thead th {\n",
              "        text-align: right;\n",
              "    }\n",
              "</style>\n",
              "<table border=\"1\" class=\"dataframe\">\n",
              "  <thead>\n",
              "    <tr style=\"text-align: right;\">\n",
              "      <th></th>\n",
              "      <th>happy</th>\n",
              "      <th>neutral</th>\n",
              "      <th>sad</th>\n",
              "      <th>anger</th>\n",
              "    </tr>\n",
              "  </thead>\n",
              "  <tbody>\n",
              "    <tr>\n",
              "      <th>0</th>\n",
              "      <td>0</td>\n",
              "      <td>0</td>\n",
              "      <td>0</td>\n",
              "      <td>1</td>\n",
              "    </tr>\n",
              "    <tr>\n",
              "      <th>1</th>\n",
              "      <td>0</td>\n",
              "      <td>0</td>\n",
              "      <td>1</td>\n",
              "      <td>0</td>\n",
              "    </tr>\n",
              "    <tr>\n",
              "      <th>2</th>\n",
              "      <td>1</td>\n",
              "      <td>0</td>\n",
              "      <td>0</td>\n",
              "      <td>0</td>\n",
              "    </tr>\n",
              "    <tr>\n",
              "      <th>3</th>\n",
              "      <td>0</td>\n",
              "      <td>0</td>\n",
              "      <td>0</td>\n",
              "      <td>1</td>\n",
              "    </tr>\n",
              "    <tr>\n",
              "      <th>4</th>\n",
              "      <td>1</td>\n",
              "      <td>0</td>\n",
              "      <td>0</td>\n",
              "      <td>0</td>\n",
              "    </tr>\n",
              "  </tbody>\n",
              "</table>\n",
              "</div>\n",
              "      <button class=\"colab-df-convert\" onclick=\"convertToInteractive('df-aa550c9c-7bab-42e2-b754-e0a5e5a3ef53')\"\n",
              "              title=\"Convert this dataframe to an interactive table.\"\n",
              "              style=\"display:none;\">\n",
              "        \n",
              "  <svg xmlns=\"http://www.w3.org/2000/svg\" height=\"24px\"viewBox=\"0 0 24 24\"\n",
              "       width=\"24px\">\n",
              "    <path d=\"M0 0h24v24H0V0z\" fill=\"none\"/>\n",
              "    <path d=\"M18.56 5.44l.94 2.06.94-2.06 2.06-.94-2.06-.94-.94-2.06-.94 2.06-2.06.94zm-11 1L8.5 8.5l.94-2.06 2.06-.94-2.06-.94L8.5 2.5l-.94 2.06-2.06.94zm10 10l.94 2.06.94-2.06 2.06-.94-2.06-.94-.94-2.06-.94 2.06-2.06.94z\"/><path d=\"M17.41 7.96l-1.37-1.37c-.4-.4-.92-.59-1.43-.59-.52 0-1.04.2-1.43.59L10.3 9.45l-7.72 7.72c-.78.78-.78 2.05 0 2.83L4 21.41c.39.39.9.59 1.41.59.51 0 1.02-.2 1.41-.59l7.78-7.78 2.81-2.81c.8-.78.8-2.07 0-2.86zM5.41 20L4 18.59l7.72-7.72 1.47 1.35L5.41 20z\"/>\n",
              "  </svg>\n",
              "      </button>\n",
              "      \n",
              "  <style>\n",
              "    .colab-df-container {\n",
              "      display:flex;\n",
              "      flex-wrap:wrap;\n",
              "      gap: 12px;\n",
              "    }\n",
              "\n",
              "    .colab-df-convert {\n",
              "      background-color: #E8F0FE;\n",
              "      border: none;\n",
              "      border-radius: 50%;\n",
              "      cursor: pointer;\n",
              "      display: none;\n",
              "      fill: #1967D2;\n",
              "      height: 32px;\n",
              "      padding: 0 0 0 0;\n",
              "      width: 32px;\n",
              "    }\n",
              "\n",
              "    .colab-df-convert:hover {\n",
              "      background-color: #E2EBFA;\n",
              "      box-shadow: 0px 1px 2px rgba(60, 64, 67, 0.3), 0px 1px 3px 1px rgba(60, 64, 67, 0.15);\n",
              "      fill: #174EA6;\n",
              "    }\n",
              "\n",
              "    [theme=dark] .colab-df-convert {\n",
              "      background-color: #3B4455;\n",
              "      fill: #D2E3FC;\n",
              "    }\n",
              "\n",
              "    [theme=dark] .colab-df-convert:hover {\n",
              "      background-color: #434B5C;\n",
              "      box-shadow: 0px 1px 3px 1px rgba(0, 0, 0, 0.15);\n",
              "      filter: drop-shadow(0px 1px 2px rgba(0, 0, 0, 0.3));\n",
              "      fill: #FFFFFF;\n",
              "    }\n",
              "  </style>\n",
              "\n",
              "      <script>\n",
              "        const buttonEl =\n",
              "          document.querySelector('#df-aa550c9c-7bab-42e2-b754-e0a5e5a3ef53 button.colab-df-convert');\n",
              "        buttonEl.style.display =\n",
              "          google.colab.kernel.accessAllowed ? 'block' : 'none';\n",
              "\n",
              "        async function convertToInteractive(key) {\n",
              "          const element = document.querySelector('#df-aa550c9c-7bab-42e2-b754-e0a5e5a3ef53');\n",
              "          const dataTable =\n",
              "            await google.colab.kernel.invokeFunction('convertToInteractive',\n",
              "                                                     [key], {});\n",
              "          if (!dataTable) return;\n",
              "\n",
              "          const docLinkHtml = 'Like what you see? Visit the ' +\n",
              "            '<a target=\"_blank\" href=https://colab.research.google.com/notebooks/data_table.ipynb>data table notebook</a>'\n",
              "            + ' to learn more about interactive tables.';\n",
              "          element.innerHTML = '';\n",
              "          dataTable['output_type'] = 'display_data';\n",
              "          await google.colab.output.renderOutput(dataTable, element);\n",
              "          const docLink = document.createElement('div');\n",
              "          docLink.innerHTML = docLinkHtml;\n",
              "          element.appendChild(docLink);\n",
              "        }\n",
              "      </script>\n",
              "    </div>\n",
              "  </div>\n",
              "  "
            ],
            "text/plain": [
              "   happy  neutral  sad  anger\n",
              "0      0        0    0      1\n",
              "1      0        0    1      0\n",
              "2      1        0    0      0\n",
              "3      0        0    0      1\n",
              "4      1        0    0      0"
            ]
          },
          "execution_count": 18,
          "metadata": {},
          "output_type": "execute_result"
        }
      ],
      "source": [
        "y_test_oneHot = pd.get_dummies(y_test).reset_index(drop=True)[['happy','neutral','sad','anger']]\n",
        "y_test_oneHot.head()"
      ]
    },
    {
      "cell_type": "markdown",
      "metadata": {
        "id": "Qn3gDQuZP3TT"
      },
      "source": [
        "# Embedding Matrix"
      ]
    },
    {
      "cell_type": "markdown",
      "metadata": {
        "id": "bLQJZZguP3TU"
      },
      "source": [
        "we're going to download a 1 million word vectors trained on Wikipedia 2017, UMBC webbase corpus and statmt.org news dataset from [this link](https://fasttext.cc/docs/en/english-vectors.html)"
      ]
    },
    {
      "cell_type": "code",
      "execution_count": 19,
      "metadata": {
        "colab": {
          "base_uri": "https://localhost:8080/"
        },
        "id": "QkZJitx4P3TU",
        "outputId": "52544bff-010c-4811-d85b-ed1adc833900"
      },
      "outputs": [
        {
          "name": "stdout",
          "output_type": "stream",
          "text": [
            "--2022-03-18 23:40:34--  https://dl.fbaipublicfiles.com/fasttext/vectors-english/wiki-news-300d-1M.vec.zip\n",
            "Resolving dl.fbaipublicfiles.com (dl.fbaipublicfiles.com)... 104.22.75.142, 104.22.74.142, 172.67.9.4, ...\n",
            "Connecting to dl.fbaipublicfiles.com (dl.fbaipublicfiles.com)|104.22.75.142|:443... connected.\n",
            "HTTP request sent, awaiting response... 200 OK\n",
            "Length: 681808098 (650M) [application/zip]\n",
            "Saving to: ‘wiki-news-300d-1M.vec.zip.1’\n",
            "\n",
            "wiki-news-300d-1M.v 100%[===================>] 650.22M  57.8MB/s    in 12s     \n",
            "\n",
            "2022-03-18 23:40:47 (52.3 MB/s) - ‘wiki-news-300d-1M.vec.zip.1’ saved [681808098/681808098]\n",
            "\n"
          ]
        }
      ],
      "source": [
        "!wget https://dl.fbaipublicfiles.com/fasttext/vectors-english/wiki-news-300d-1M.vec.zip"
      ]
    },
    {
      "cell_type": "code",
      "execution_count": null,
      "metadata": {
        "id": "9qB4TyOSP3TU"
      },
      "outputs": [],
      "source": [
        "!unzip wiki-news-300d-1M.vec.zip"
      ]
    },
    {
      "cell_type": "code",
      "execution_count": 21,
      "metadata": {
        "id": "hWVM56TPP3TV"
      },
      "outputs": [],
      "source": [
        "embedding = pd.DataFrame({'word':[None] + list(tokenizer.word_index.keys()),'vector':None,'found':True})\n",
        "with open(\"wiki-news-300d-1M.vec\", encoding=\"utf8\") as f:\n",
        "    for line in f:\n",
        "        word, *vector = line.split()\n",
        "        if word in tokenizer.word_index:\n",
        "            embedding.loc[tokenizer.word_index[word],'vector'] = ','.join(vector)\n",
        "\n",
        "embedding.loc[embedding['vector'].isna(),'found'] = False\n",
        "embedding.loc[embedding['vector'].isna(),'vector'] = ','.join(np.zeros(300).astype(str))"
      ]
    },
    {
      "cell_type": "code",
      "execution_count": 22,
      "metadata": {
        "colab": {
          "base_uri": "https://localhost:8080/",
          "height": 206
        },
        "id": "IOcJPMEhP3TV",
        "outputId": "0f6a776a-3a47-4191-d8ca-ec1d638c10c7"
      },
      "outputs": [
        {
          "data": {
            "text/html": [
              "\n",
              "  <div id=\"df-0c7b8dac-4fc0-41c4-9537-9c6b4cc493b2\">\n",
              "    <div class=\"colab-df-container\">\n",
              "      <div>\n",
              "<style scoped>\n",
              "    .dataframe tbody tr th:only-of-type {\n",
              "        vertical-align: middle;\n",
              "    }\n",
              "\n",
              "    .dataframe tbody tr th {\n",
              "        vertical-align: top;\n",
              "    }\n",
              "\n",
              "    .dataframe thead th {\n",
              "        text-align: right;\n",
              "    }\n",
              "</style>\n",
              "<table border=\"1\" class=\"dataframe\">\n",
              "  <thead>\n",
              "    <tr style=\"text-align: right;\">\n",
              "      <th></th>\n",
              "      <th>word</th>\n",
              "      <th>vector</th>\n",
              "      <th>found</th>\n",
              "    </tr>\n",
              "  </thead>\n",
              "  <tbody>\n",
              "    <tr>\n",
              "      <th>0</th>\n",
              "      <td>None</td>\n",
              "      <td>0.0,0.0,0.0,0.0,0.0,0.0,0.0,0.0,0.0,0.0,0.0,0....</td>\n",
              "      <td>False</td>\n",
              "    </tr>\n",
              "    <tr>\n",
              "      <th>1</th>\n",
              "      <td>feel</td>\n",
              "      <td>-0.0372,0.0615,0.0167,-0.0382,0.0207,-0.1949,-...</td>\n",
              "      <td>True</td>\n",
              "    </tr>\n",
              "    <tr>\n",
              "      <th>2</th>\n",
              "      <td>feeling</td>\n",
              "      <td>0.0174,0.0295,-0.1055,-0.0031,0.1514,-0.0682,-...</td>\n",
              "      <td>True</td>\n",
              "    </tr>\n",
              "    <tr>\n",
              "      <th>3</th>\n",
              "      <td>like</td>\n",
              "      <td>-0.0637,-0.0730,-0.0434,0.0429,-0.0641,-0.1114...</td>\n",
              "      <td>True</td>\n",
              "    </tr>\n",
              "    <tr>\n",
              "      <th>4</th>\n",
              "      <td>really</td>\n",
              "      <td>-0.0303,0.0524,-0.0671,0.0217,0.0205,0.0159,0....</td>\n",
              "      <td>True</td>\n",
              "    </tr>\n",
              "  </tbody>\n",
              "</table>\n",
              "</div>\n",
              "      <button class=\"colab-df-convert\" onclick=\"convertToInteractive('df-0c7b8dac-4fc0-41c4-9537-9c6b4cc493b2')\"\n",
              "              title=\"Convert this dataframe to an interactive table.\"\n",
              "              style=\"display:none;\">\n",
              "        \n",
              "  <svg xmlns=\"http://www.w3.org/2000/svg\" height=\"24px\"viewBox=\"0 0 24 24\"\n",
              "       width=\"24px\">\n",
              "    <path d=\"M0 0h24v24H0V0z\" fill=\"none\"/>\n",
              "    <path d=\"M18.56 5.44l.94 2.06.94-2.06 2.06-.94-2.06-.94-.94-2.06-.94 2.06-2.06.94zm-11 1L8.5 8.5l.94-2.06 2.06-.94-2.06-.94L8.5 2.5l-.94 2.06-2.06.94zm10 10l.94 2.06.94-2.06 2.06-.94-2.06-.94-.94-2.06-.94 2.06-2.06.94z\"/><path d=\"M17.41 7.96l-1.37-1.37c-.4-.4-.92-.59-1.43-.59-.52 0-1.04.2-1.43.59L10.3 9.45l-7.72 7.72c-.78.78-.78 2.05 0 2.83L4 21.41c.39.39.9.59 1.41.59.51 0 1.02-.2 1.41-.59l7.78-7.78 2.81-2.81c.8-.78.8-2.07 0-2.86zM5.41 20L4 18.59l7.72-7.72 1.47 1.35L5.41 20z\"/>\n",
              "  </svg>\n",
              "      </button>\n",
              "      \n",
              "  <style>\n",
              "    .colab-df-container {\n",
              "      display:flex;\n",
              "      flex-wrap:wrap;\n",
              "      gap: 12px;\n",
              "    }\n",
              "\n",
              "    .colab-df-convert {\n",
              "      background-color: #E8F0FE;\n",
              "      border: none;\n",
              "      border-radius: 50%;\n",
              "      cursor: pointer;\n",
              "      display: none;\n",
              "      fill: #1967D2;\n",
              "      height: 32px;\n",
              "      padding: 0 0 0 0;\n",
              "      width: 32px;\n",
              "    }\n",
              "\n",
              "    .colab-df-convert:hover {\n",
              "      background-color: #E2EBFA;\n",
              "      box-shadow: 0px 1px 2px rgba(60, 64, 67, 0.3), 0px 1px 3px 1px rgba(60, 64, 67, 0.15);\n",
              "      fill: #174EA6;\n",
              "    }\n",
              "\n",
              "    [theme=dark] .colab-df-convert {\n",
              "      background-color: #3B4455;\n",
              "      fill: #D2E3FC;\n",
              "    }\n",
              "\n",
              "    [theme=dark] .colab-df-convert:hover {\n",
              "      background-color: #434B5C;\n",
              "      box-shadow: 0px 1px 3px 1px rgba(0, 0, 0, 0.15);\n",
              "      filter: drop-shadow(0px 1px 2px rgba(0, 0, 0, 0.3));\n",
              "      fill: #FFFFFF;\n",
              "    }\n",
              "  </style>\n",
              "\n",
              "      <script>\n",
              "        const buttonEl =\n",
              "          document.querySelector('#df-0c7b8dac-4fc0-41c4-9537-9c6b4cc493b2 button.colab-df-convert');\n",
              "        buttonEl.style.display =\n",
              "          google.colab.kernel.accessAllowed ? 'block' : 'none';\n",
              "\n",
              "        async function convertToInteractive(key) {\n",
              "          const element = document.querySelector('#df-0c7b8dac-4fc0-41c4-9537-9c6b4cc493b2');\n",
              "          const dataTable =\n",
              "            await google.colab.kernel.invokeFunction('convertToInteractive',\n",
              "                                                     [key], {});\n",
              "          if (!dataTable) return;\n",
              "\n",
              "          const docLinkHtml = 'Like what you see? Visit the ' +\n",
              "            '<a target=\"_blank\" href=https://colab.research.google.com/notebooks/data_table.ipynb>data table notebook</a>'\n",
              "            + ' to learn more about interactive tables.';\n",
              "          element.innerHTML = '';\n",
              "          dataTable['output_type'] = 'display_data';\n",
              "          await google.colab.output.renderOutput(dataTable, element);\n",
              "          const docLink = document.createElement('div');\n",
              "          docLink.innerHTML = docLinkHtml;\n",
              "          element.appendChild(docLink);\n",
              "        }\n",
              "      </script>\n",
              "    </div>\n",
              "  </div>\n",
              "  "
            ],
            "text/plain": [
              "      word                                             vector  found\n",
              "0     None  0.0,0.0,0.0,0.0,0.0,0.0,0.0,0.0,0.0,0.0,0.0,0....  False\n",
              "1     feel  -0.0372,0.0615,0.0167,-0.0382,0.0207,-0.1949,-...   True\n",
              "2  feeling  0.0174,0.0295,-0.1055,-0.0031,0.1514,-0.0682,-...   True\n",
              "3     like  -0.0637,-0.0730,-0.0434,0.0429,-0.0641,-0.1114...   True\n",
              "4   really  -0.0303,0.0524,-0.0671,0.0217,0.0205,0.0159,0....   True"
            ]
          },
          "execution_count": 22,
          "metadata": {},
          "output_type": "execute_result"
        }
      ],
      "source": [
        "embedding.head()"
      ]
    },
    {
      "cell_type": "code",
      "execution_count": 23,
      "metadata": {
        "colab": {
          "base_uri": "https://localhost:8080/",
          "height": 206
        },
        "id": "x9os_U3-P3TV",
        "outputId": "f613253c-240f-42b4-ee7d-e5e3e06d00d8"
      },
      "outputs": [
        {
          "data": {
            "text/html": [
              "\n",
              "  <div id=\"df-45dd9983-7d7e-4c54-8003-d6baf672bbd9\">\n",
              "    <div class=\"colab-df-container\">\n",
              "      <div>\n",
              "<style scoped>\n",
              "    .dataframe tbody tr th:only-of-type {\n",
              "        vertical-align: middle;\n",
              "    }\n",
              "\n",
              "    .dataframe tbody tr th {\n",
              "        vertical-align: top;\n",
              "    }\n",
              "\n",
              "    .dataframe thead th {\n",
              "        text-align: right;\n",
              "    }\n",
              "</style>\n",
              "<table border=\"1\" class=\"dataframe\">\n",
              "  <thead>\n",
              "    <tr style=\"text-align: right;\">\n",
              "      <th></th>\n",
              "      <th>word</th>\n",
              "      <th>vector</th>\n",
              "      <th>found</th>\n",
              "    </tr>\n",
              "  </thead>\n",
              "  <tbody>\n",
              "    <tr>\n",
              "      <th>0</th>\n",
              "      <td>None</td>\n",
              "      <td>0.0,0.0,0.0,0.0,0.0,0.0,0.0,0.0,0.0,0.0,0.0,0....</td>\n",
              "      <td>False</td>\n",
              "    </tr>\n",
              "    <tr>\n",
              "      <th>3131</th>\n",
              "      <td>hellip</td>\n",
              "      <td>0.0,0.0,0.0,0.0,0.0,0.0,0.0,0.0,0.0,0.0,0.0,0....</td>\n",
              "      <td>False</td>\n",
              "    </tr>\n",
              "    <tr>\n",
              "      <th>4900</th>\n",
              "      <td>stumbleupon</td>\n",
              "      <td>0.0,0.0,0.0,0.0,0.0,0.0,0.0,0.0,0.0,0.0,0.0,0....</td>\n",
              "      <td>False</td>\n",
              "    </tr>\n",
              "    <tr>\n",
              "      <th>5652</th>\n",
              "      <td>getyourprettyon</td>\n",
              "      <td>0.0,0.0,0.0,0.0,0.0,0.0,0.0,0.0,0.0,0.0,0.0,0....</td>\n",
              "      <td>False</td>\n",
              "    </tr>\n",
              "    <tr>\n",
              "      <th>6241</th>\n",
              "      <td>unza</td>\n",
              "      <td>0.0,0.0,0.0,0.0,0.0,0.0,0.0,0.0,0.0,0.0,0.0,0....</td>\n",
              "      <td>False</td>\n",
              "    </tr>\n",
              "  </tbody>\n",
              "</table>\n",
              "</div>\n",
              "      <button class=\"colab-df-convert\" onclick=\"convertToInteractive('df-45dd9983-7d7e-4c54-8003-d6baf672bbd9')\"\n",
              "              title=\"Convert this dataframe to an interactive table.\"\n",
              "              style=\"display:none;\">\n",
              "        \n",
              "  <svg xmlns=\"http://www.w3.org/2000/svg\" height=\"24px\"viewBox=\"0 0 24 24\"\n",
              "       width=\"24px\">\n",
              "    <path d=\"M0 0h24v24H0V0z\" fill=\"none\"/>\n",
              "    <path d=\"M18.56 5.44l.94 2.06.94-2.06 2.06-.94-2.06-.94-.94-2.06-.94 2.06-2.06.94zm-11 1L8.5 8.5l.94-2.06 2.06-.94-2.06-.94L8.5 2.5l-.94 2.06-2.06.94zm10 10l.94 2.06.94-2.06 2.06-.94-2.06-.94-.94-2.06-.94 2.06-2.06.94z\"/><path d=\"M17.41 7.96l-1.37-1.37c-.4-.4-.92-.59-1.43-.59-.52 0-1.04.2-1.43.59L10.3 9.45l-7.72 7.72c-.78.78-.78 2.05 0 2.83L4 21.41c.39.39.9.59 1.41.59.51 0 1.02-.2 1.41-.59l7.78-7.78 2.81-2.81c.8-.78.8-2.07 0-2.86zM5.41 20L4 18.59l7.72-7.72 1.47 1.35L5.41 20z\"/>\n",
              "  </svg>\n",
              "      </button>\n",
              "      \n",
              "  <style>\n",
              "    .colab-df-container {\n",
              "      display:flex;\n",
              "      flex-wrap:wrap;\n",
              "      gap: 12px;\n",
              "    }\n",
              "\n",
              "    .colab-df-convert {\n",
              "      background-color: #E8F0FE;\n",
              "      border: none;\n",
              "      border-radius: 50%;\n",
              "      cursor: pointer;\n",
              "      display: none;\n",
              "      fill: #1967D2;\n",
              "      height: 32px;\n",
              "      padding: 0 0 0 0;\n",
              "      width: 32px;\n",
              "    }\n",
              "\n",
              "    .colab-df-convert:hover {\n",
              "      background-color: #E2EBFA;\n",
              "      box-shadow: 0px 1px 2px rgba(60, 64, 67, 0.3), 0px 1px 3px 1px rgba(60, 64, 67, 0.15);\n",
              "      fill: #174EA6;\n",
              "    }\n",
              "\n",
              "    [theme=dark] .colab-df-convert {\n",
              "      background-color: #3B4455;\n",
              "      fill: #D2E3FC;\n",
              "    }\n",
              "\n",
              "    [theme=dark] .colab-df-convert:hover {\n",
              "      background-color: #434B5C;\n",
              "      box-shadow: 0px 1px 3px 1px rgba(0, 0, 0, 0.15);\n",
              "      filter: drop-shadow(0px 1px 2px rgba(0, 0, 0, 0.3));\n",
              "      fill: #FFFFFF;\n",
              "    }\n",
              "  </style>\n",
              "\n",
              "      <script>\n",
              "        const buttonEl =\n",
              "          document.querySelector('#df-45dd9983-7d7e-4c54-8003-d6baf672bbd9 button.colab-df-convert');\n",
              "        buttonEl.style.display =\n",
              "          google.colab.kernel.accessAllowed ? 'block' : 'none';\n",
              "\n",
              "        async function convertToInteractive(key) {\n",
              "          const element = document.querySelector('#df-45dd9983-7d7e-4c54-8003-d6baf672bbd9');\n",
              "          const dataTable =\n",
              "            await google.colab.kernel.invokeFunction('convertToInteractive',\n",
              "                                                     [key], {});\n",
              "          if (!dataTable) return;\n",
              "\n",
              "          const docLinkHtml = 'Like what you see? Visit the ' +\n",
              "            '<a target=\"_blank\" href=https://colab.research.google.com/notebooks/data_table.ipynb>data table notebook</a>'\n",
              "            + ' to learn more about interactive tables.';\n",
              "          element.innerHTML = '';\n",
              "          dataTable['output_type'] = 'display_data';\n",
              "          await google.colab.output.renderOutput(dataTable, element);\n",
              "          const docLink = document.createElement('div');\n",
              "          docLink.innerHTML = docLinkHtml;\n",
              "          element.appendChild(docLink);\n",
              "        }\n",
              "      </script>\n",
              "    </div>\n",
              "  </div>\n",
              "  "
            ],
            "text/plain": [
              "                 word                                             vector  \\\n",
              "0                None  0.0,0.0,0.0,0.0,0.0,0.0,0.0,0.0,0.0,0.0,0.0,0....   \n",
              "3131           hellip  0.0,0.0,0.0,0.0,0.0,0.0,0.0,0.0,0.0,0.0,0.0,0....   \n",
              "4900      stumbleupon  0.0,0.0,0.0,0.0,0.0,0.0,0.0,0.0,0.0,0.0,0.0,0....   \n",
              "5652  getyourprettyon  0.0,0.0,0.0,0.0,0.0,0.0,0.0,0.0,0.0,0.0,0.0,0....   \n",
              "6241             unza  0.0,0.0,0.0,0.0,0.0,0.0,0.0,0.0,0.0,0.0,0.0,0....   \n",
              "\n",
              "      found  \n",
              "0     False  \n",
              "3131  False  \n",
              "4900  False  \n",
              "5652  False  \n",
              "6241  False  "
            ]
          },
          "execution_count": 23,
          "metadata": {},
          "output_type": "execute_result"
        }
      ],
      "source": [
        "embedding[~embedding['found']].head()"
      ]
    },
    {
      "cell_type": "code",
      "execution_count": 24,
      "metadata": {
        "colab": {
          "base_uri": "https://localhost:8080/"
        },
        "id": "CCffqeiZP3TV",
        "outputId": "8c65ef13-93c2-4282-871b-fd4040e7b160"
      },
      "outputs": [
        {
          "name": "stdout",
          "output_type": "stream",
          "text": [
            "Words found in wiki vocab: 37536\n",
            "New words found: 7539\n"
          ]
        }
      ],
      "source": [
        "print(f\"Words found in wiki vocab: {embedding['found'].sum()}\")\n",
        "print(f\"New words found: {(~embedding['found']).sum()}\")"
      ]
    },
    {
      "cell_type": "code",
      "execution_count": 25,
      "metadata": {
        "id": "4xhCHYeUP3TW"
      },
      "outputs": [],
      "source": [
        "embedding_matrix = embedding['vector'].str.split(',',expand=True).values"
      ]
    },
    {
      "cell_type": "code",
      "execution_count": 26,
      "metadata": {
        "colab": {
          "base_uri": "https://localhost:8080/"
        },
        "id": "NzMT0T1yUb1B",
        "outputId": "af1633d6-c269-4663-f9e4-48e9e2dd4bd7"
      },
      "outputs": [
        {
          "data": {
            "text/plain": [
              "(45075, 300)"
            ]
          },
          "execution_count": 26,
          "metadata": {},
          "output_type": "execute_result"
        }
      ],
      "source": [
        "embedding_matrix.shape"
      ]
    },
    {
      "cell_type": "markdown",
      "metadata": {
        "id": "UJU3zEqWRElJ"
      },
      "source": [
        "## Free Up Some Memory"
      ]
    },
    {
      "cell_type": "code",
      "execution_count": 27,
      "metadata": {
        "id": "gJgd_KApP3TW"
      },
      "outputs": [],
      "source": [
        "%xdel df"
      ]
    },
    {
      "cell_type": "code",
      "execution_count": 28,
      "metadata": {
        "id": "fYRux0h9P3TW"
      },
      "outputs": [],
      "source": [
        "%xdel df_balanced"
      ]
    },
    {
      "cell_type": "code",
      "execution_count": 29,
      "metadata": {
        "id": "tniBP6McRBb6"
      },
      "outputs": [],
      "source": [
        "%xdel embedding"
      ]
    },
    {
      "cell_type": "markdown",
      "metadata": {
        "id": "tiPqdLnsP3TX"
      },
      "source": [
        "<style>\n",
        ".header {width:100%;\n",
        "background:linear-gradient(to right,#5A4A9A,#4673B1,#339BA0,#7FC3B5);\n",
        "color: white;\n",
        "text-align: center;\n",
        "border-radius: 10px;\n",
        "height: 50px;\n",
        "}\n",
        "</style>\n",
        "<h1 class=\"header\">Model Structuring</h1>"
      ]
    },
    {
      "cell_type": "code",
      "execution_count": 30,
      "metadata": {
        "id": "R9dRPR-tP3TX"
      },
      "outputs": [],
      "source": [
        "CNN_model = Sequential()\n",
        "CNN_model.add(layers.Embedding(input_dim = vocab_size,\n",
        "                                output_dim = 300,\n",
        "                                weights=[embedding_matrix],\n",
        "                                input_length=300,\n",
        "                                trainable=False)\n",
        "            )\n",
        "CNN_model.add(layers.Conv1D(256, 3, activation='relu'))\n",
        "CNN_model.add(layers.GlobalMaxPooling1D())\n",
        "CNN_model.add(layers.Dense(256, activation='relu'))\n",
        "CNN_model.add(layers.Dense(4, activation='softmax'))"
      ]
    },
    {
      "cell_type": "code",
      "execution_count": 31,
      "metadata": {
        "colab": {
          "base_uri": "https://localhost:8080/"
        },
        "id": "DSxcbBcZP3TX",
        "outputId": "a5cdb8b5-a699-4368-9dd2-877bb40dc80a"
      },
      "outputs": [
        {
          "name": "stdout",
          "output_type": "stream",
          "text": [
            "Model: \"sequential\"\n",
            "_________________________________________________________________\n",
            " Layer (type)                Output Shape              Param #   \n",
            "=================================================================\n",
            " embedding (Embedding)       (None, 300, 300)          13522500  \n",
            "                                                                 \n",
            " conv1d (Conv1D)             (None, 298, 256)          230656    \n",
            "                                                                 \n",
            " global_max_pooling1d (Globa  (None, 256)              0         \n",
            " lMaxPooling1D)                                                  \n",
            "                                                                 \n",
            " dense (Dense)               (None, 256)               65792     \n",
            "                                                                 \n",
            " dense_1 (Dense)             (None, 4)                 1028      \n",
            "                                                                 \n",
            "=================================================================\n",
            "Total params: 13,819,976\n",
            "Trainable params: 297,476\n",
            "Non-trainable params: 13,522,500\n",
            "_________________________________________________________________\n"
          ]
        }
      ],
      "source": [
        "CNN_model.compile(loss = 'categorical_crossentropy', optimizer = 'adam', metrics = ['accuracy'])\n",
        "CNN_model.summary()"
      ]
    },
    {
      "cell_type": "markdown",
      "metadata": {
        "id": "cQpFNU08P3TX"
      },
      "source": [
        "<style>\n",
        ".header {width:100%;\n",
        "background:linear-gradient(to right,#5A4A9A,#4673B1,#339BA0,#7FC3B5);\n",
        "color: white;\n",
        "text-align: center;\n",
        "border-radius: 10px;\n",
        "height: 50px;\n",
        "}\n",
        "</style>\n",
        "<h1 class=\"header\">Model Training</h1>"
      ]
    },
    {
      "cell_type": "code",
      "execution_count": 32,
      "metadata": {
        "colab": {
          "base_uri": "https://localhost:8080/"
        },
        "id": "62Q_xA3mP3TY",
        "outputId": "6b6e7a6b-ce8b-4aee-bfa4-1e4ea37ea901"
      },
      "outputs": [
        {
          "name": "stdout",
          "output_type": "stream",
          "text": [
            "Epoch 1/6\n",
            "517/517 [==============================] - 49s 77ms/step - loss: 0.2654 - accuracy: 0.9090 - val_loss: 0.1745 - val_accuracy: 0.9402 - lr: 0.0010\n",
            "Epoch 2/6\n",
            "517/517 [==============================] - 37s 72ms/step - loss: 0.1502 - accuracy: 0.9481 - val_loss: 0.1689 - val_accuracy: 0.9415 - lr: 0.0010\n",
            "Epoch 3/6\n",
            "517/517 [==============================] - 37s 72ms/step - loss: 0.1198 - accuracy: 0.9578 - val_loss: 0.1701 - val_accuracy: 0.9444 - lr: 0.0010\n",
            "Epoch 4/6\n",
            "517/517 [==============================] - 37s 71ms/step - loss: 0.0919 - accuracy: 0.9668 - val_loss: 0.1904 - val_accuracy: 0.9404 - lr: 0.0010\n",
            "Epoch 5/6\n",
            "517/517 [==============================] - 39s 75ms/step - loss: 0.0725 - accuracy: 0.9736 - val_loss: 0.2145 - val_accuracy: 0.9384 - lr: 0.0010\n",
            "Epoch 6/6\n",
            "517/517 [==============================] - 39s 75ms/step - loss: 0.0594 - accuracy: 0.9790 - val_loss: 0.2315 - val_accuracy: 0.9380 - lr: 0.0010\n"
          ]
        }
      ],
      "source": [
        "history = CNN_model.fit(   x_train_padded, \n",
        "                        y_train_oneHot.values, \n",
        "                        batch_size=256,\n",
        "                        epochs=6,\n",
        "                        verbose=1,\n",
        "                        validation_split=0.2,\n",
        "                        callbacks=[callbacks.ReduceLROnPlateau(monitor='val_loss', patience=5, cooldown=0),\n",
        "                                callbacks.EarlyStopping(monitor='val_accuracy', min_delta=1e-4, patience=5)]\n",
        "                                )"
      ]
    },
    {
      "cell_type": "markdown",
      "metadata": {
        "id": "U3QNtCHdP3TY"
      },
      "source": [
        "<style>\n",
        ".header {width:100%;\n",
        "background:linear-gradient(to right,#5A4A9A,#4673B1,#339BA0,#7FC3B5);\n",
        "color: white;\n",
        "text-align: center;\n",
        "border-radius: 10px;\n",
        "height: 50px;\n",
        "}\n",
        "</style>\n",
        "<h1 class=\"header\">Model Evaluation</h1>"
      ]
    },
    {
      "cell_type": "code",
      "execution_count": 33,
      "metadata": {
        "id": "0OvFYB8HP3TY"
      },
      "outputs": [],
      "source": [
        "y_pred = np.argmax(CNN_model.predict(x_test_padded),axis=1)"
      ]
    },
    {
      "cell_type": "code",
      "execution_count": 34,
      "metadata": {
        "id": "Sc5O-TePP3TZ"
      },
      "outputs": [],
      "source": [
        "y_true = np.argmax(y_test_oneHot.values,axis=1)"
      ]
    },
    {
      "cell_type": "code",
      "execution_count": 35,
      "metadata": {
        "colab": {
          "base_uri": "https://localhost:8080/"
        },
        "id": "ZhMRTFMXP3TZ",
        "outputId": "88599a32-3114-4778-d3f4-08c13ea52a1c"
      },
      "outputs": [
        {
          "name": "stdout",
          "output_type": "stream",
          "text": [
            "accuracy   0.9378\n",
            "precision  0.9391\n",
            "recall     0.9384\n"
          ]
        }
      ],
      "source": [
        "print(f'{\"accuracy\":10} {(y_pred == y_true).mean():.4f}')\n",
        "print(f'{\"precision\":10} {precision_score(y_true,y_pred,average=\"macro\"):.4f}')\n",
        "print(f'{\"recall\":10} {recall_score(y_true,y_pred,average=\"macro\"):.4f}')"
      ]
    },
    {
      "cell_type": "markdown",
      "metadata": {
        "id": "haPT3MytP3TZ"
      },
      "source": [
        "## Confusion Matrix"
      ]
    },
    {
      "cell_type": "code",
      "execution_count": 36,
      "metadata": {
        "colab": {
          "base_uri": "https://localhost:8080/",
          "height": 206
        },
        "id": "38UDgXtKP3Ta",
        "outputId": "74b613ae-695a-4416-c279-f41453a0351b"
      },
      "outputs": [
        {
          "data": {
            "text/html": [
              "\n",
              "  <div id=\"df-ae14a44a-2b43-4968-99ac-c9d3fecb61e5\">\n",
              "    <div class=\"colab-df-container\">\n",
              "      <div>\n",
              "<style scoped>\n",
              "    .dataframe tbody tr th:only-of-type {\n",
              "        vertical-align: middle;\n",
              "    }\n",
              "\n",
              "    .dataframe tbody tr th {\n",
              "        vertical-align: top;\n",
              "    }\n",
              "\n",
              "    .dataframe thead th {\n",
              "        text-align: right;\n",
              "    }\n",
              "</style>\n",
              "<table border=\"1\" class=\"dataframe\">\n",
              "  <thead>\n",
              "    <tr style=\"text-align: right;\">\n",
              "      <th>Predicted</th>\n",
              "      <th>anger</th>\n",
              "      <th>happy</th>\n",
              "      <th>neutral</th>\n",
              "      <th>sad</th>\n",
              "    </tr>\n",
              "    <tr>\n",
              "      <th>True</th>\n",
              "      <th></th>\n",
              "      <th></th>\n",
              "      <th></th>\n",
              "      <th></th>\n",
              "    </tr>\n",
              "  </thead>\n",
              "  <tbody>\n",
              "    <tr>\n",
              "      <th>anger</th>\n",
              "      <td>16286</td>\n",
              "      <td>36</td>\n",
              "      <td>321</td>\n",
              "      <td>133</td>\n",
              "    </tr>\n",
              "    <tr>\n",
              "      <th>happy</th>\n",
              "      <td>148</td>\n",
              "      <td>15888</td>\n",
              "      <td>1743</td>\n",
              "      <td>221</td>\n",
              "    </tr>\n",
              "    <tr>\n",
              "      <th>neutral</th>\n",
              "      <td>212</td>\n",
              "      <td>903</td>\n",
              "      <td>16596</td>\n",
              "      <td>289</td>\n",
              "    </tr>\n",
              "    <tr>\n",
              "      <th>sad</th>\n",
              "      <td>111</td>\n",
              "      <td>54</td>\n",
              "      <td>228</td>\n",
              "      <td>17607</td>\n",
              "    </tr>\n",
              "  </tbody>\n",
              "</table>\n",
              "</div>\n",
              "      <button class=\"colab-df-convert\" onclick=\"convertToInteractive('df-ae14a44a-2b43-4968-99ac-c9d3fecb61e5')\"\n",
              "              title=\"Convert this dataframe to an interactive table.\"\n",
              "              style=\"display:none;\">\n",
              "        \n",
              "  <svg xmlns=\"http://www.w3.org/2000/svg\" height=\"24px\"viewBox=\"0 0 24 24\"\n",
              "       width=\"24px\">\n",
              "    <path d=\"M0 0h24v24H0V0z\" fill=\"none\"/>\n",
              "    <path d=\"M18.56 5.44l.94 2.06.94-2.06 2.06-.94-2.06-.94-.94-2.06-.94 2.06-2.06.94zm-11 1L8.5 8.5l.94-2.06 2.06-.94-2.06-.94L8.5 2.5l-.94 2.06-2.06.94zm10 10l.94 2.06.94-2.06 2.06-.94-2.06-.94-.94-2.06-.94 2.06-2.06.94z\"/><path d=\"M17.41 7.96l-1.37-1.37c-.4-.4-.92-.59-1.43-.59-.52 0-1.04.2-1.43.59L10.3 9.45l-7.72 7.72c-.78.78-.78 2.05 0 2.83L4 21.41c.39.39.9.59 1.41.59.51 0 1.02-.2 1.41-.59l7.78-7.78 2.81-2.81c.8-.78.8-2.07 0-2.86zM5.41 20L4 18.59l7.72-7.72 1.47 1.35L5.41 20z\"/>\n",
              "  </svg>\n",
              "      </button>\n",
              "      \n",
              "  <style>\n",
              "    .colab-df-container {\n",
              "      display:flex;\n",
              "      flex-wrap:wrap;\n",
              "      gap: 12px;\n",
              "    }\n",
              "\n",
              "    .colab-df-convert {\n",
              "      background-color: #E8F0FE;\n",
              "      border: none;\n",
              "      border-radius: 50%;\n",
              "      cursor: pointer;\n",
              "      display: none;\n",
              "      fill: #1967D2;\n",
              "      height: 32px;\n",
              "      padding: 0 0 0 0;\n",
              "      width: 32px;\n",
              "    }\n",
              "\n",
              "    .colab-df-convert:hover {\n",
              "      background-color: #E2EBFA;\n",
              "      box-shadow: 0px 1px 2px rgba(60, 64, 67, 0.3), 0px 1px 3px 1px rgba(60, 64, 67, 0.15);\n",
              "      fill: #174EA6;\n",
              "    }\n",
              "\n",
              "    [theme=dark] .colab-df-convert {\n",
              "      background-color: #3B4455;\n",
              "      fill: #D2E3FC;\n",
              "    }\n",
              "\n",
              "    [theme=dark] .colab-df-convert:hover {\n",
              "      background-color: #434B5C;\n",
              "      box-shadow: 0px 1px 3px 1px rgba(0, 0, 0, 0.15);\n",
              "      filter: drop-shadow(0px 1px 2px rgba(0, 0, 0, 0.3));\n",
              "      fill: #FFFFFF;\n",
              "    }\n",
              "  </style>\n",
              "\n",
              "      <script>\n",
              "        const buttonEl =\n",
              "          document.querySelector('#df-ae14a44a-2b43-4968-99ac-c9d3fecb61e5 button.colab-df-convert');\n",
              "        buttonEl.style.display =\n",
              "          google.colab.kernel.accessAllowed ? 'block' : 'none';\n",
              "\n",
              "        async function convertToInteractive(key) {\n",
              "          const element = document.querySelector('#df-ae14a44a-2b43-4968-99ac-c9d3fecb61e5');\n",
              "          const dataTable =\n",
              "            await google.colab.kernel.invokeFunction('convertToInteractive',\n",
              "                                                     [key], {});\n",
              "          if (!dataTable) return;\n",
              "\n",
              "          const docLinkHtml = 'Like what you see? Visit the ' +\n",
              "            '<a target=\"_blank\" href=https://colab.research.google.com/notebooks/data_table.ipynb>data table notebook</a>'\n",
              "            + ' to learn more about interactive tables.';\n",
              "          element.innerHTML = '';\n",
              "          dataTable['output_type'] = 'display_data';\n",
              "          await google.colab.output.renderOutput(dataTable, element);\n",
              "          const docLink = document.createElement('div');\n",
              "          docLink.innerHTML = docLinkHtml;\n",
              "          element.appendChild(docLink);\n",
              "        }\n",
              "      </script>\n",
              "    </div>\n",
              "  </div>\n",
              "  "
            ],
            "text/plain": [
              "Predicted  anger  happy  neutral    sad\n",
              "True                                   \n",
              "anger      16286     36      321    133\n",
              "happy        148  15888     1743    221\n",
              "neutral      212    903    16596    289\n",
              "sad          111     54      228  17607"
            ]
          },
          "execution_count": 36,
          "metadata": {},
          "output_type": "execute_result"
        }
      ],
      "source": [
        "pd.DataFrame({'True':y_train_oneHot.columns.values[y_true],'Predicted':y_train_oneHot.columns.values[y_pred]}).groupby(['True'])['Predicted'].value_counts().unstack(fill_value=0)"
      ]
    },
    {
      "cell_type": "code",
      "execution_count": 37,
      "metadata": {
        "colab": {
          "base_uri": "https://localhost:8080/",
          "height": 404
        },
        "id": "SQly6khAP3Ta",
        "outputId": "549e8be5-acc9-4703-963a-8d5cf846a8b0"
      },
      "outputs": [
        {
          "data": {
            "image/png": "[encoded data removed]",
            "text/plain": [
              "<Figure size 864x432 with 1 Axes>"
            ]
          },
          "metadata": {
            "needs_background": "light"
          },
          "output_type": "display_data"
        }
      ],
      "source": [
        "plt.figure(figsize=(12,6))\n",
        "sns.heatmap(confusion_matrix(y_true,y_pred),annot=True,cbar=False,fmt=\"d\",linewidths=.5,cmap='gray')\n",
        "plt.gca().set_xticklabels(labels=y_train_oneHot.columns.values)\n",
        "plt.gca().set_yticklabels(labels=y_train_oneHot.columns.values)\n",
        "plt.ylabel('True label')\n",
        "plt.xlabel('Predicted label')\n",
        "plt.title('Confusion Matrix')\n",
        "plt.show()"
      ]
    },
    {
      "cell_type": "code",
      "execution_count": 38,
      "metadata": {
        "colab": {
          "base_uri": "https://localhost:8080/",
          "height": 295
        },
        "id": "xyB4IuedP3Ta",
        "outputId": "2d645dc0-2a31-4bbe-df6d-73ece65b090f"
      },
      "outputs": [
        {
          "data": {
            "image/png": "[encoded data removed]",
            "text/plain": [
              "<Figure size 432x288 with 1 Axes>"
            ]
          },
          "metadata": {
            "needs_background": "light"
          },
          "output_type": "display_data"
        }
      ],
      "source": [
        "plt.plot(history.epoch,history.history['loss'],color='blue',label='Training Loss')\n",
        "plt.plot(history.epoch,history.history['val_loss'],color='red',label='Validation Loss')\n",
        "plt.title('Loss/Epoch')\n",
        "plt.xlabel('Epochs')\n",
        "plt.ylabel('Loss')\n",
        "plt.legend()\n",
        "plt.show()"
      ]
    },
    {
      "cell_type": "code",
      "execution_count": 39,
      "metadata": {
        "colab": {
          "base_uri": "https://localhost:8080/",
          "height": 295
        },
        "id": "2SZiAZaXP3Ta",
        "outputId": "eb124cd6-ad11-4e5b-c972-4fe554ca4543"
      },
      "outputs": [
        {
          "data": {
            "image/png": "[encoded data removed]",
            "text/plain": [
              "<Figure size 432x288 with 1 Axes>"
            ]
          },
          "metadata": {
            "needs_background": "light"
          },
          "output_type": "display_data"
        }
      ],
      "source": [
        "plt.plot(history.epoch,history.history['accuracy'],color='blue',label='Training Accuracy')\n",
        "plt.plot(history.epoch,history.history['val_accuracy'],color='red',label='Validation Accuracy')\n",
        "plt.title('Accuracy/Epoch')\n",
        "plt.xlabel('Epochs')\n",
        "plt.ylabel('Accuracy')\n",
        "plt.legend()\n",
        "plt.show()"
      ]
    },
    {
      "cell_type": "code",
      "execution_count": 40,
      "metadata": {
        "id": "thBuQUdhP3Tb"
      },
      "outputs": [],
      "source": [
        "def predict(sentence):\n",
        "    sentence_seq=tokenizer.texts_to_sequences([sentence])\n",
        "    sentence_padded=pad_sequences(sentence_seq,maxlen=300)\n",
        "    return y_test_oneHot.columns.values[np.argmax(CNN_model.predict(sentence_padded))]"
      ]
    },
    {
      "cell_type": "code",
      "execution_count": 41,
      "metadata": {
        "colab": {
          "base_uri": "https://localhost:8080/",
          "height": 35
        },
        "id": "hz7_UmIqP3Tb",
        "outputId": "3ebba92f-4520-46cd-ea5c-5ef65bdad45d"
      },
      "outputs": [
        {
          "data": {
            "application/vnd.google.colaboratory.intrinsic+json": {
              "type": "string"
            },
            "text/plain": [
              "'neutral'"
            ]
          },
          "execution_count": 41,
          "metadata": {},
          "output_type": "execute_result"
        }
      ],
      "source": [
        "predict(\"the flowers bloom in the spring\")"
      ]
    },
    {
      "cell_type": "markdown",
      "metadata": {
        "id": "oFqq6tYxP3Tb"
      },
      "source": [
        "<style>\n",
        ".header {width:100%;\n",
        "background:linear-gradient(to right,#5A4A9A,#4673B1,#339BA0,#7FC3B5);\n",
        "color: white;\n",
        "text-align: center;\n",
        "border-radius: 10px;\n",
        "height: 50px;\n",
        "}\n",
        "</style>\n",
        "<h1 class=\"header\">Saving Models</h1>"
      ]
    },
    {
      "cell_type": "code",
      "execution_count": 42,
      "metadata": {
        "id": "m09g-jVcP3Tc"
      },
      "outputs": [],
      "source": [
        "data_dir = 'trained_models'\n",
        "if not os.path.exists(data_dir):\n",
        "    os.makedirs(data_dir)\n",
        "CNN_model.save(f'{data_dir}/CNN_model.h5')\n",
        "tfjs.converters.save_keras_model(CNN_model, data_dir)"
      ]
    },
    {
      "cell_type": "code",
      "execution_count": 43,
      "metadata": {
        "id": "zhgHLwMlP3Tc"
      },
      "outputs": [],
      "source": [
        "with open(\"trained_models/tokenizer.json\", \"w\") as f:\n",
        "    json.dump(tokenizer.word_index,f) "
      ]
    },
    {
      "cell_type": "markdown",
      "metadata": {
        "id": "rNy1AGT1P3Tc"
      },
      "source": [
        "<style>\n",
        ".header {width:100%;\n",
        "background:linear-gradient(to right,#5A4A9A,#4673B1,#339BA0,#7FC3B5);\n",
        "color: white;\n",
        "text-align: center;\n",
        "border-radius: 10px;\n",
        "height: 50px;\n",
        "}\n",
        "</style>\n",
        "<h1 class=\"header\">Model Deployment</h1>"
      ]
    },
    {
      "cell_type": "markdown",
      "metadata": {
        "id": "8t1gVbDvP3Tc"
      },
      "source": [
        "You can try the model yourself from the following link\n",
        "\n",
        "* https://abdelrahmanfekryy.github.io/CORELIA_Task//Emotion_Detection_From_Text/App"
      ]
    },
    {
      "cell_type": "markdown",
      "metadata": {
        "id": "iXew2DoqP3Tc"
      },
      "source": [
        "<style>\n",
        ".screen {\n",
        "border-radius: 10px;\n",
        "width:80%;\n",
        "\n",
        "}\n",
        "</style>\n",
        "<center><img src = \"Imgs/Web_App.PNG\" class=\"screen\"/></center>"
      ]
    }
  ],
  "metadata": {
    "accelerator": "GPU",
    "colab": {
      "name": "Main.ipynb",
      "provenance": []
    },
    "interpreter": {
      "hash": "8a6378035587bb97055001603ea9d85a2aa377cc6252a50ffca4355a71bc8b90"
    },
    "kernelspec": {
      "display_name": "Python 3.8.10 64-bit",
      "language": "python",
      "name": "python3"
    },
    "language_info": {
      "codemirror_mode": {
        "name": "ipython",
        "version": 3
      },
      "file_extension": ".py",
      "mimetype": "text/x-python",
      "name": "python",
      "nbconvert_exporter": "python",
      "pygments_lexer": "ipython3",
      "version": "3.8.10"
    },
    "orig_nbformat": 4
  },
  "nbformat": 4,
  "nbformat_minor": 0
}

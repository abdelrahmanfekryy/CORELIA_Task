{
  "cells": [
    {
      "cell_type": "markdown",
      "metadata": {
        "id": "g4-aCx-u_8FI"
      },
      "source": [
        "<style>\n",
        ".titlebar{\n",
        "    box-shadow: 0px 0px 10px rgb(0,0,0);\n",
        "    display: grid;\n",
        "    grid-template-columns: 0.3fr 1.2fr 1.5fr;\n",
        "    gap: 5px;\n",
        "    background:white;\n",
        "    border-radius: 10px;\n",
        "}\n",
        "</style>\n",
        "<div class=\"titlebar\">\n",
        "<svg style=\"display:inline-block;padding:10px 10px\" height=70 xmlns=\"http://www.w3.org/2000/svg\" xmlns:xlink=\"http://www.w3.org/1999/xlink\" viewBox=\"0 0 543.7 530.7\" xmlns:v=\"https://vecta.io/nano\">\n",
        "<title>Corelia</title>\n",
        "<path d=\"M303.5 407.4c-148.1 43.6-256.3-8.5-274-57.2-17.6-48.7-1.5-99.6 86.7-138.1 89.5-39.1 205.4-24.8 270.2-7.7 51.9 13.7 94.8 33.2 119.3 73.6 26.8 44.1-8.2 66.1-17.4 69.7-48.9 18.7 85.8-23.4-69.5-68.3-104.4-30.2-157.5-29.8-206.2-24.1-68.6 8.1-141.5 55.5-99.2 91.5 37.3 31.7 95.9 45.2 137 51.2 63.5 9.2 120.2-10.4 53.1 9.4\" fill=\"#73be8e\"/>\n",
        "<defs>\n",
        "<path id=\"A\" d=\"M524 184.3c30.5 69.3-58.8 180.6-199.3 248.7s-279.1 67.1-309.6-2.1c-8.4-19.1-7.7-41.4.7-65.1-16.6 32.8-20.8 64.1-9.4 90 32.2 73.3 177.2 75.2 323.8 4.1 146.6-71 239.3-188.1 207.1-261.4-4.8-10.8-12-20.1-21.3-27.8 3.2 4.3 5.9 8.8 8 13.6\"/>\n",
        "</defs>\n",
        "<clipPath id=\"B\"><use xlink:href=\"#A\"/></clipPath>\n",
        "<linearGradient id=\"C\" gradientUnits=\"userSpaceOnUse\" x1=\"0\" y1=\"350.878\" x2=\"543.741\" y2=\"350.878\"><stop offset=\"0\" stop-color=\"#9dd6ed\"/><stop offset=\".039\" stop-color=\"#8ccdca\"/><stop offset=\".078\" stop-color=\"#7fc5ae\"/><stop offset=\".117\" stop-color=\"#76c09a\"/><stop offset=\".156\" stop-color=\"#70bd8e\"/><stop offset=\".196\" stop-color=\"#6ebc8a\"/><stop offset=\".371\" stop-color=\"#55a598\"/><stop offset=\".628\" stop-color=\"#3688a9\"/><stop offset=\".846\" stop-color=\"#2476b3\"/><stop offset=\"1\" stop-color=\"#1d70b7\"/></linearGradient>\n",
        "<path d=\"M-5 170.8h574.5V531H-5z\" clip-path=\"url(#B)\" fill=\"url(#C)\"/>\n",
        "<defs><path id=\"D\" d=\"M119.8 218.2c-38.7 16-81.7 40.7-78.6 66.9 4 34.3 65.2 77.3 104.4 83-13.5-6.2-28.1-14.7-37.3-26.7-14.8-19.2 7.9-72.2 81.9-80.7 52.4-6.1 110.8-11.5 223 16.6 15.9 4 28.7 9.5 38.5 13.9 21.4 9.6 29.3 18.7 31.1 26.4l3.1-3.4c10.7-8.8-1.1-41.5-58.4-74.6-42.1-24.4-107.3-34.2-127-36.2-12.1-.6-24.7-1-37.6-1-46.1 0-96 4.5-143.1 15.8\"/></defs>\n",
        "<clipPath id=\"E\"><use xlink:href=\"#D\"/></clipPath><linearGradient id=\"F\" gradientUnits=\"userSpaceOnUse\" x1=\"0\" y1=\"622.395\" x2=\"1\" y2=\"622.395\" gradientTransform=\"matrix(434.7703 -180.2035 -180.2035 -434.7703 112219.2031 270969.6875)\"><stop offset=\"0\" stop-color=\"#9dd6ed\"/><stop offset=\".218\" stop-color=\"#6ebc8a\"/><stop offset=\".386\" stop-color=\"#62b190\"/><stop offset=\".687\" stop-color=\"#4494a2\"/><stop offset=\"1\" stop-color=\"#1d70b7\"/></linearGradient><path d=\"M-20.5 226.7L429.4 40.3l125.8 303.5-449.9 186.5z\" clip-path=\"url(#E)\" fill=\"url(#F)\"/><defs><path id=\"G\" d=\"M276.7 0C217.3.2 153.3 34 131 117.7c-41.3 155 33.1 264.5 107.6 337.8 76 74.8 206.3 98.4 245 50 21.3-26.6 23.2-47.7 13.9-76.8-21.5-67.1 17.3 49.6-43.1 57.3-84.1 10.8-142.9-36.5-189.8-107-49.1-73.7-76.7-143.2-71-206.9C197 133 208.5 68.6 231.9 47c34.7-32 90.9-35.1 116.8-20.5 28.3 15.9 58.6 44.9 22.4 8.5-22-22-56.9-35-93.6-35.1h-.8z\"/></defs><clipPath id=\"H\"><use xlink:href=\"#G\"/></clipPath><linearGradient id=\"I\" gradientUnits=\"userSpaceOnUse\" x1=\"0\" y1=\"622.398\" x2=\"1\" y2=\"622.398\" gradientTransform=\"matrix(355.9158 -143.186 -143.186 -355.9158 89264.6719 221861.2031)\"><stop offset=\"0\" stop-color=\"#7384c0\"/><stop offset=\".029\" stop-color=\"#6d80bd\"/><stop offset=\".163\" stop-color=\"#586fb3\"/><stop offset=\".25\" stop-color=\"#5069af\"/><stop offset=\".336\" stop-color=\"#5069af\"/><stop offset=\".426\" stop-color=\"#5860a9\"/><stop offset=\".795\" stop-color=\"#764192\"/><stop offset=\"1\" stop-color=\"#81358a\"/></linearGradient><path d=\"M-102.1 77.2l557.7-224.4 251 623.9-557.7 224.4z\" clip-path=\"url(#H)\" fill=\"url(#I)\"/></svg>\n",
        "\n",
        "<svg style=\"display:inline-block;padding:10px 10px;\" height=70 xmlns=\"http://www.w3.org/2000/svg\" viewBox=\"0 0 607.6 165.9\" xmlns:v=\"https://vecta.io/nano\">\n",
        "<title>Corelia</title>\n",
        "<path d=\"M564 32.3l-46 99.1 1.3.2 4.5.5c2.6 0 3.4-1.2 5.1-5l2.3-4.9 5.6-12.2c.8-1.9 1.8-2.5 3.8-2.5h44.8.1c2 0 3 .6 3.8 2.5 1.8 4.3 3.7 8.6 5.6 12.8l2.1 4.8c1.9 4.4 2.3 4.6 7.1 4.4.4 0 .8-.1 1.3-.2.3-.1.6-.1.9-.2l1.2-.2L564 32.3zm20.5 67h-42c2.4-6.7 16.8-38.4 21.4-46.5l20.6 46.5zM152.4 33.5c-12.7-.2-25.3 4.9-34.6 14-9.6 9.4-14.9 22.1-14.9 35.8 0 13.3 5.3 26.3 14.5 35.6 9.2 9.2 21.6 14.3 34.9 14.3 27.6 0 49.3-21.8 49.4-49.6 0-13.7-5.2-26.5-14.7-35.9-9.2-9.2-21.9-14.4-34.6-14.2zm29.4 78.7c-7.9 8.1-18.7 12.8-29.6 12.8-19.9 0-41.3-16.8-41.3-41.8 0-11 4.4-21.4 12.3-29.3 7.8-7.8 18.1-12.1 28.8-12.1h.1c11.3 0 21.8 4.5 29.6 12.6 7.7 8 11.9 18.5 11.6 29v.1c.4 10.5-3.8 20.7-11.5 28.7zm78.7-22.6c4.6-.1 8.9-1.3 12.8-3.5 10.4-5.7 15.4-13.6 15.3-24.1-.1-8.9-4.2-16-12.4-21.7-5.5-3.8-12.2-5.8-19.9-5.9-7.4-.1-14.9-.1-22.1 0h-7.7c-.7 0-1.4 0-2.3.1-.5 0-1 .1-1.5.1l-.9.1v97.1h8.2v-15.2-30.1-13.9-29.7c.3 0 .6 0 .9-.1 1.1-.1 2-.1 2.9-.1h1 19.4c2.3 0 4.8.1 7.3.5 7.6 1.2 13.2 4.8 16.7 10.5 3.8 6.1 3.6 12.2-.4 18.1-3.3 4.8-7.7 7.8-13.3 9.1-6.3 1.5-12.8 1.5-18.9 1.5-1 0-2 0-3.2.1-.6 0-1.2.1-1.9.1l-1.9.1 1.2 1.5c.4.6.8 1.1 1.2 1.5.6.9 1.2 1.5 1.7 2.2l33.5 40.6c2.2 2.6 4.1 3.8 6.6 3.8 1.4 0 2.9-.4 4.8-1l1.3-.5-3.6-4.4-5.6-6.8-5.5-6.6-3-3.7c-.8-1-1.7-2-2.5-3-1.9-2.3-3.9-4.6-5.7-7-.8-1-1.7-2.1-2.6-3.1-1.6-1.9-3.3-3.9-4.8-6.1.3 0 .6-.1.9-.1 1.3-.2 2.7-.3 4-.4zm78.6 34.3h-5.9c-3.8 0-7.7.1-11.6-.1V87.6c4.5-.3 9.1-.2 13.5-.2h6.8l14.9-.1h6.6 1v-8.1H342h-3.4-7.6-3.2c-2.2 0-4.2.1-6.2-.2V42.9h23.1 12.6 5.9l12.6-.1h1v-8.2h-63.1v97.2h63.2v-8h-25.2c-4.2.1-8.4.1-12.6.1zM81.3 109.8c-5.6 6.4-11.9 10.7-19.2 13.1-7.7 2.5-15.6 2.7-23.4.6-7.6-2.1-14.2-6.1-19.6-12.1-14.6-16.2-14.6-40.5.1-56.6 7.3-8 18.1-13 29.1-13.3 11.5-.3 22.4 4.3 31.7 13.3l.7.7 5.6-4.9-.6-.7C73.9 35.3 51.9 29.5 33.4 36 13 43.2-.4 62.5 0 84.1c.6 26.2 18.9 42.8 36.8 47.5 4.2 1.1 8.3 1.6 12.3 1.6 16.7 0 31.4-8.6 38.3-18.7l.5-.8-6.1-4.6-.5.7zM462.7 124h-24.3-12.5c-4.1 0-8.1 0-12.3-.1h-4.7V34.8l-.9-.1c-.4 0-.7-.1-1-.1-.6-.1-1-.1-1.5-.1-.7 0-1.4 0-2.3.1-.4 0-.8 0-1.2.1h-.9v96.6l.8.2c2 .5 14.3.7 27.2.7 15.2 0 31.3-.3 33.2-.9l.7-.2-.3-7.1zM484.1 0c-5.5 0-10 4.5-10 9.9s4.5 9.9 10 9.9 10-4.5 10-9.9-4.5-9.9-10-9.9z\" fill=\"#553d8e\"/>\n",
        "<path d=\"M485.8 80.3c-1-11 .1-30.7.8-40.8.5-4 .5-6.4.5-6.6l-3-.1c0 .3-.2 2.7-.5 6.2-.6 4.5-1.8 11.2-4.4 19.1-4.5 13.5-3.6 28.7 2.4 40.8 9.5 19.1 14.9 33.5 14.9 33.7l2.8-1c-.1-.3-12.2-36.9-13.5-51.3z\" fill=\"#00a099\"/>\n",
        "</svg>\n",
        "\n",
        "<center><h1 style=\"color:#00a099;\">Arabic Handwritten Characters Recognition<h1><center>\n",
        "</div>"
      ]
    },
    {
      "cell_type": "markdown",
      "metadata": {
        "id": "NfwUH7sBP3S9"
      },
      "source": [
        "<style>\n",
        ".header {width:100%;\n",
        "background:linear-gradient(to right,#5A4A9A,#4673B1,#339BA0,#7FC3B5);\n",
        "color: white;\n",
        "text-align: center;\n",
        "border-radius: 10px;\n",
        "height: 50px;\n",
        "}\n",
        "</style>\n",
        "<h1 class=\"header\">Introduction</h1>"
      ]
    },
    {
      "cell_type": "markdown",
      "metadata": {
        "id": "rerLDSVMP3S_"
      },
      "source": [
        "* Importing Necessary Libraries\n",
        "* Data Sources\n",
        "* Data Analysis\n",
        "* Data Pre-processing\n",
        "* Model Stucturing\n",
        "* Model Training\n",
        "* Model Evaluation\n",
        "* Saving Models\n",
        "* Model Deployment"
      ]
    },
    {
      "cell_type": "markdown",
      "metadata": {
        "id": "_3qOUJ_VP3TA"
      },
      "source": [
        "<style>\n",
        ".header {width:100%;\n",
        "background:linear-gradient(to right,#5A4A9A,#4673B1,#339BA0,#7FC3B5);\n",
        "color: white;\n",
        "text-align: center;\n",
        "border-radius: 10px;\n",
        "height: 50px;\n",
        "}\n",
        "</style>\n",
        "<h1 class=\"header\">Importing Necessary Libraries</h1>"
      ]
    },
    {
      "cell_type": "code",
      "execution_count": 2,
      "metadata": {
        "id": "6hZpsl5W_8FW"
      },
      "outputs": [],
      "source": [
        "import numpy as np\n",
        "import pandas as pd\n",
        "import matplotlib.pyplot as plt\n",
        "import seaborn as sns\n",
        "import os\n",
        "from IPython.display import display,HTML"
      ]
    },
    {
      "cell_type": "code",
      "execution_count": 3,
      "metadata": {
        "id": "cdp0tEmf_8FY"
      },
      "outputs": [],
      "source": [
        "from sklearn.model_selection import train_test_split\n",
        "from sklearn.metrics import confusion_matrix,accuracy_score,recall_score,precision_score,classification_report\n",
        "from sklearn.preprocessing import maxabs_scale"
      ]
    },
    {
      "cell_type": "code",
      "execution_count": 4,
      "metadata": {
        "id": "aGTGddid_8FZ"
      },
      "outputs": [],
      "source": [
        "from keras.preprocessing.image import ImageDataGenerator\n",
        "from keras.utils.np_utils import to_categorical\n",
        "\n",
        "from tensorflow.keras import layers, Sequential ,callbacks,metrics,losses,optimizers\n",
        "from tensorflow.keras.regularizers import l2\n",
        "import tensorflowjs as tfjs"
      ]
    },
    {
      "cell_type": "markdown",
      "metadata": {
        "id": "oCPJvN6V_8Fa"
      },
      "source": [
        "## Used Libraries"
      ]
    },
    {
      "cell_type": "code",
      "execution_count": 5,
      "metadata": {
        "colab": {
          "base_uri": "https://localhost:8080/"
        },
        "id": "kqL8T7_J_8Fb",
        "outputId": "257cb10c-d858-42fc-f50c-e4e77f248238"
      },
      "outputs": [
        {
          "name": "stdout",
          "output_type": "stream",
          "text": [
            "Numpy           1.21.5\n",
            "Matplotlib      3.2.2\n",
            "Seaborn         0.11.2\n",
            "Scikit-Learn    1.0.2\n",
            "Keras           2.8.0\n"
          ]
        }
      ],
      "source": [
        "from sklearn import __version__ as skv\n",
        "from matplotlib import __version__ as pltv\n",
        "from numpy import __version__ as npv\n",
        "from seaborn import __version__ as snsv\n",
        "from tensorflow.keras import __version__ as ksv\n",
        "\n",
        "print(f'{\"Numpy\":15} {npv}')\n",
        "print(f'{\"Matplotlib\":15} {pltv}')\n",
        "print(f'{\"Seaborn\":15} {snsv}')\n",
        "print(f'{\"Scikit-Learn\":15} {skv}')\n",
        "print(f'{\"Keras\":15} {ksv}')"
      ]
    },
    {
      "cell_type": "markdown",
      "metadata": {
        "id": "QUJJ3KlyP3TI"
      },
      "source": [
        "<style>\n",
        ".header {width:100%;\n",
        "background:linear-gradient(to right,#5A4A9A,#4673B1,#339BA0,#7FC3B5);\n",
        "color: white;\n",
        "text-align: center;\n",
        "border-radius: 10px;\n",
        "height: 50px;\n",
        "}\n",
        "</style>\n",
        "<h1 class=\"header\">Data Sources</h1>"
      ]
    },
    {
      "cell_type": "markdown",
      "metadata": {
        "id": "IQAMN0ky_8Fd"
      },
      "source": [
        "The data is collected from the following sources\n",
        "\n",
        "* [mloey.github.io](https://mloey.github.io/research/research2.html)\n",
        "\n",
        "And merged into one Data-Frame, You can view the full Process in the following window from the original repo [Source Here](https://github.com/abdelrahmanfekryy/Data_Gathering_And_Extraction/tree/main/Arabic_Handwritten_Characters)"
      ]
    },
    {
      "cell_type": "markdown",
      "metadata": {
        "id": "PTJEZ2rg_8Fe"
      },
      "source": [
        "<div class=\"aspect-ratio\">\n",
        "  <iframe style=\"border-radius: 10px;\" src=\"https://abdelrahmanfekryy.github.io/Data_Gathering_And_Extraction/Arabic_Handwritten_Characters/\" width=\"100%\" height=\"500\" frameborder=\"0\"></iframe>\n",
        "</div>"
      ]
    },
    {
      "cell_type": "markdown",
      "metadata": {
        "id": "IfzWmZM8P3TL"
      },
      "source": [
        "<style>\n",
        ".header {width:100%;\n",
        "background:linear-gradient(to right,#5A4A9A,#4673B1,#339BA0,#7FC3B5);\n",
        "color: white;\n",
        "text-align: center;\n",
        "border-radius: 10px;\n",
        "height: 50px;\n",
        "}\n",
        "</style>\n",
        "<h1 class=\"header\">Data Analysis</h1>"
      ]
    },
    {
      "cell_type": "code",
      "execution_count": 6,
      "metadata": {
        "colab": {
          "base_uri": "https://localhost:8080/",
          "height": 206
        },
        "id": "RQgn5iYf_8Ff",
        "outputId": "60c90328-61fd-408a-daed-0be8400345cd"
      },
      "outputs": [
        {
          "data": {
            "text/html": [
              "\n",
              "  <div id=\"df-1008d6ef-ab59-4bcd-b77e-5ddb0f3e49c5\">\n",
              "    <div class=\"colab-df-container\">\n",
              "      <div>\n",
              "<style scoped>\n",
              "    .dataframe tbody tr th:only-of-type {\n",
              "        vertical-align: middle;\n",
              "    }\n",
              "\n",
              "    .dataframe tbody tr th {\n",
              "        vertical-align: top;\n",
              "    }\n",
              "\n",
              "    .dataframe thead th {\n",
              "        text-align: right;\n",
              "    }\n",
              "</style>\n",
              "<table border=\"1\" class=\"dataframe\">\n",
              "  <thead>\n",
              "    <tr style=\"text-align: right;\">\n",
              "      <th></th>\n",
              "      <th>label</th>\n",
              "      <th>img</th>\n",
              "    </tr>\n",
              "  </thead>\n",
              "  <tbody>\n",
              "    <tr>\n",
              "      <th>0</th>\n",
              "      <td>1</td>\n",
              "      <td>0,0,0,0,0,0,0,0,0,0,0,0,0,0,0,0,0,0,0,0,0,0,0,...</td>\n",
              "    </tr>\n",
              "    <tr>\n",
              "      <th>1</th>\n",
              "      <td>1</td>\n",
              "      <td>0,0,0,0,0,0,0,0,0,0,0,0,0,0,0,0,0,0,0,0,0,0,0,...</td>\n",
              "    </tr>\n",
              "    <tr>\n",
              "      <th>2</th>\n",
              "      <td>1</td>\n",
              "      <td>0,0,0,0,0,0,0,0,0,0,0,0,0,0,0,0,0,0,0,0,0,0,0,...</td>\n",
              "    </tr>\n",
              "    <tr>\n",
              "      <th>3</th>\n",
              "      <td>1</td>\n",
              "      <td>0,0,0,0,0,0,0,0,0,0,0,0,0,0,0,0,0,0,0,0,0,0,0,...</td>\n",
              "    </tr>\n",
              "    <tr>\n",
              "      <th>4</th>\n",
              "      <td>1</td>\n",
              "      <td>0,0,0,0,0,0,0,0,0,0,0,0,0,0,0,0,0,0,0,0,0,0,0,...</td>\n",
              "    </tr>\n",
              "  </tbody>\n",
              "</table>\n",
              "</div>\n",
              "      <button class=\"colab-df-convert\" onclick=\"convertToInteractive('df-1008d6ef-ab59-4bcd-b77e-5ddb0f3e49c5')\"\n",
              "              title=\"Convert this dataframe to an interactive table.\"\n",
              "              style=\"display:none;\">\n",
              "        \n",
              "  <svg xmlns=\"http://www.w3.org/2000/svg\" height=\"24px\"viewBox=\"0 0 24 24\"\n",
              "       width=\"24px\">\n",
              "    <path d=\"M0 0h24v24H0V0z\" fill=\"none\"/>\n",
              "    <path d=\"M18.56 5.44l.94 2.06.94-2.06 2.06-.94-2.06-.94-.94-2.06-.94 2.06-2.06.94zm-11 1L8.5 8.5l.94-2.06 2.06-.94-2.06-.94L8.5 2.5l-.94 2.06-2.06.94zm10 10l.94 2.06.94-2.06 2.06-.94-2.06-.94-.94-2.06-.94 2.06-2.06.94z\"/><path d=\"M17.41 7.96l-1.37-1.37c-.4-.4-.92-.59-1.43-.59-.52 0-1.04.2-1.43.59L10.3 9.45l-7.72 7.72c-.78.78-.78 2.05 0 2.83L4 21.41c.39.39.9.59 1.41.59.51 0 1.02-.2 1.41-.59l7.78-7.78 2.81-2.81c.8-.78.8-2.07 0-2.86zM5.41 20L4 18.59l7.72-7.72 1.47 1.35L5.41 20z\"/>\n",
              "  </svg>\n",
              "      </button>\n",
              "      \n",
              "  <style>\n",
              "    .colab-df-container {\n",
              "      display:flex;\n",
              "      flex-wrap:wrap;\n",
              "      gap: 12px;\n",
              "    }\n",
              "\n",
              "    .colab-df-convert {\n",
              "      background-color: #E8F0FE;\n",
              "      border: none;\n",
              "      border-radius: 50%;\n",
              "      cursor: pointer;\n",
              "      display: none;\n",
              "      fill: #1967D2;\n",
              "      height: 32px;\n",
              "      padding: 0 0 0 0;\n",
              "      width: 32px;\n",
              "    }\n",
              "\n",
              "    .colab-df-convert:hover {\n",
              "      background-color: #E2EBFA;\n",
              "      box-shadow: 0px 1px 2px rgba(60, 64, 67, 0.3), 0px 1px 3px 1px rgba(60, 64, 67, 0.15);\n",
              "      fill: #174EA6;\n",
              "    }\n",
              "\n",
              "    [theme=dark] .colab-df-convert {\n",
              "      background-color: #3B4455;\n",
              "      fill: #D2E3FC;\n",
              "    }\n",
              "\n",
              "    [theme=dark] .colab-df-convert:hover {\n",
              "      background-color: #434B5C;\n",
              "      box-shadow: 0px 1px 3px 1px rgba(0, 0, 0, 0.15);\n",
              "      filter: drop-shadow(0px 1px 2px rgba(0, 0, 0, 0.3));\n",
              "      fill: #FFFFFF;\n",
              "    }\n",
              "  </style>\n",
              "\n",
              "      <script>\n",
              "        const buttonEl =\n",
              "          document.querySelector('#df-1008d6ef-ab59-4bcd-b77e-5ddb0f3e49c5 button.colab-df-convert');\n",
              "        buttonEl.style.display =\n",
              "          google.colab.kernel.accessAllowed ? 'block' : 'none';\n",
              "\n",
              "        async function convertToInteractive(key) {\n",
              "          const element = document.querySelector('#df-1008d6ef-ab59-4bcd-b77e-5ddb0f3e49c5');\n",
              "          const dataTable =\n",
              "            await google.colab.kernel.invokeFunction('convertToInteractive',\n",
              "                                                     [key], {});\n",
              "          if (!dataTable) return;\n",
              "\n",
              "          const docLinkHtml = 'Like what you see? Visit the ' +\n",
              "            '<a target=\"_blank\" href=https://colab.research.google.com/notebooks/data_table.ipynb>data table notebook</a>'\n",
              "            + ' to learn more about interactive tables.';\n",
              "          element.innerHTML = '';\n",
              "          dataTable['output_type'] = 'display_data';\n",
              "          await google.colab.output.renderOutput(dataTable, element);\n",
              "          const docLink = document.createElement('div');\n",
              "          docLink.innerHTML = docLinkHtml;\n",
              "          element.appendChild(docLink);\n",
              "        }\n",
              "      </script>\n",
              "    </div>\n",
              "  </div>\n",
              "  "
            ],
            "text/plain": [
              "   label                                                img\n",
              "0      1  0,0,0,0,0,0,0,0,0,0,0,0,0,0,0,0,0,0,0,0,0,0,0,...\n",
              "1      1  0,0,0,0,0,0,0,0,0,0,0,0,0,0,0,0,0,0,0,0,0,0,0,...\n",
              "2      1  0,0,0,0,0,0,0,0,0,0,0,0,0,0,0,0,0,0,0,0,0,0,0,...\n",
              "3      1  0,0,0,0,0,0,0,0,0,0,0,0,0,0,0,0,0,0,0,0,0,0,0,...\n",
              "4      1  0,0,0,0,0,0,0,0,0,0,0,0,0,0,0,0,0,0,0,0,0,0,0,..."
            ]
          },
          "execution_count": 6,
          "metadata": {},
          "output_type": "execute_result"
        }
      ],
      "source": [
        "df = pd.read_csv(\"https://raw.githubusercontent.com/abdelrahmanfekryy/Data_Gathering_And_Extraction/main/Arabic_Handwritten_Characters/Output/data.csv\")\n",
        "df.head()"
      ]
    },
    {
      "cell_type": "code",
      "execution_count": 7,
      "metadata": {
        "id": "FUUtqlIo_8Fg"
      },
      "outputs": [],
      "source": [
        "x_data = df['img'].str.split(',',expand=True).values.reshape((-1,32,32)).transpose(0,2,1).astype(int)\n",
        "y_data = df['label'].values.astype(int) - 1"
      ]
    },
    {
      "cell_type": "code",
      "execution_count": 8,
      "metadata": {
        "colab": {
          "base_uri": "https://localhost:8080/"
        },
        "id": "B-yfQJvi_8Fg",
        "outputId": "da8fd1f9-0523-4705-ad34-9214b5bf6d0d"
      },
      "outputs": [
        {
          "data": {
            "text/plain": [
              "(16800, 32, 32)"
            ]
          },
          "execution_count": 8,
          "metadata": {},
          "output_type": "execute_result"
        }
      ],
      "source": [
        "x_data.shape"
      ]
    },
    {
      "cell_type": "code",
      "execution_count": 9,
      "metadata": {
        "colab": {
          "base_uri": "https://localhost:8080/"
        },
        "id": "r2pI-mgx_8Fh",
        "outputId": "1972a500-50c2-471d-f2f6-70e79a16993b"
      },
      "outputs": [
        {
          "data": {
            "text/plain": [
              "(16800,)"
            ]
          },
          "execution_count": 9,
          "metadata": {},
          "output_type": "execute_result"
        }
      ],
      "source": [
        "y_data.shape"
      ]
    },
    {
      "cell_type": "code",
      "execution_count": 10,
      "metadata": {
        "colab": {
          "base_uri": "https://localhost:8080/"
        },
        "id": "RzhgfEIc_8Fi",
        "outputId": "68bbc8a7-76fd-4fa3-f6ce-07363768d16d"
      },
      "outputs": [
        {
          "name": "stdout",
          "output_type": "stream",
          "text": [
            "[ 0  1  2  3  4  5  6  7  8  9 10 11 12 13 14 15 16 17 18 19 20 21 22 23\n",
            " 24 25 26 27]\n"
          ]
        }
      ],
      "source": [
        "print(np.unique(y_data))"
      ]
    },
    {
      "cell_type": "code",
      "execution_count": 11,
      "metadata": {
        "colab": {
          "base_uri": "https://localhost:8080/"
        },
        "id": "TFB_ObCT_8Fi",
        "outputId": "863f0abe-70d7-448b-e004-0d483fc2fdf1"
      },
      "outputs": [
        {
          "data": {
            "text/plain": [
              "array(['أ', 'ب', 'ت', 'ث', 'ج', 'ح', 'خ', 'د', 'ذ', 'ر', 'ز', 'س', 'ش',\n",
              "       'ص', 'ض', 'ط', 'ظ', 'ع', 'غ', 'ف', 'ق', 'ك', 'ل', 'م', 'ن', 'ﻫ',\n",
              "       'و', 'ي'], dtype='<U1')"
            ]
          },
          "execution_count": 11,
          "metadata": {},
          "output_type": "execute_result"
        }
      ],
      "source": [
        "arabic_alpha = np.array([u'\\u0623',u'\\u0628',u'\\u062A',u'\\u062B',u'\\u062C',u'\\u062D',u'\\u062E',u'\\u062F',u'\\u0630',u'\\u0631',u'\\u0632',u'\\u0633',u'\\u0634',u'\\u0635',u'\\u0636',u'\\u0637',u'\\u0638',u'\\u0639',u'\\u063A',u'\\u0641',u'\\u0642',u'\\u0643',u'\\u0644',u'\\u0645',u'\\u0646',u'\\uFEEB',u'\\u0648',u'\\u064A'])\n",
        "arabic_alpha"
      ]
    },
    {
      "cell_type": "code",
      "execution_count": 12,
      "metadata": {
        "colab": {
          "base_uri": "https://localhost:8080/",
          "height": 571
        },
        "id": "vrm8wml9_8Fi",
        "outputId": "f7eea312-5dc7-4936-ccb5-160b0db7b335"
      },
      "outputs": [
        {
          "data": {
            "image/png": "[encoded data removed]",
            "text/plain": [
              "<Figure size 1008x720 with 28 Axes>"
            ]
          },
          "metadata": {
            "needs_background": "light"
          },
          "output_type": "display_data"
        }
      ],
      "source": [
        "fig,ax = plt.subplots(4,7,figsize=(14,10))\n",
        "for i in range(4):\n",
        "    for j in range(7):\n",
        "        ax[i,j].set_title(arabic_alpha[i*7+j])\n",
        "        ax[i,j].imshow(x_data[y_data == i*7+j].mean(axis=0),cmap='gray_r')\n",
        "        ax[i,j].yaxis.set_visible(False)\n",
        "        ax[i,j].xaxis.set_visible(False)\n",
        "plt.show()"
      ]
    },
    {
      "cell_type": "code",
      "execution_count": 13,
      "metadata": {
        "colab": {
          "base_uri": "https://localhost:8080/",
          "height": 404
        },
        "id": "GDlulfn4_8Fj",
        "outputId": "85d5ae8d-72a3-443c-edf4-8121634c6d5a"
      },
      "outputs": [
        {
          "data": {
            "image/png": "[encoded data removed]",
            "text/plain": [
              "<Figure size 720x432 with 1 Axes>"
            ]
          },
          "metadata": {
            "needs_background": "light"
          },
          "output_type": "display_data"
        }
      ],
      "source": [
        "plt.figure(figsize=(10,6))\n",
        "means = np.array([x_data[y_data == i].mean() for i in range(28)])\n",
        "plt.bar(x=range(28),height=means/means.sum(),color='#808080')\n",
        "plt.title('Classes Means')\n",
        "plt.xlabel('Classes')\n",
        "plt.ylabel('Mean Value')\n",
        "plt.xticks(range(28),labels=arabic_alpha)\n",
        "plt.gca().spines['right'].set_visible(False)\n",
        "plt.gca().spines['top'].set_visible(False)\n",
        "plt.grid(axis='y', alpha=0.75)\n",
        "plt.gca().set_axisbelow(True)\n",
        "plt.show()"
      ]
    },
    {
      "cell_type": "markdown",
      "metadata": {
        "id": "JullukMd_8Fk"
      },
      "source": [
        "## Class Imbalance Check"
      ]
    },
    {
      "cell_type": "code",
      "execution_count": 14,
      "metadata": {
        "colab": {
          "base_uri": "https://localhost:8080/",
          "height": 0
        },
        "id": "sKKgwz-e_8Fk",
        "outputId": "8459f251-b6e9-4bad-f5d3-58d85b3d6562"
      },
      "outputs": [
        {
          "data": {
            "image/png": "[encoded data removed]",
            "text/plain": [
              "<Figure size 720x432 with 1 Axes>"
            ]
          },
          "metadata": {
            "needs_background": "light"
          },
          "output_type": "display_data"
        }
      ],
      "source": [
        "plt.figure(figsize=(10,6))\n",
        "sns.countplot(x=arabic_alpha[y_data],color='#808080')\n",
        "plt.title('Class Imbalance Check')\n",
        "plt.xlabel('Classes')\n",
        "plt.gca().spines['right'].set_visible(False)\n",
        "plt.gca().spines['top'].set_visible(False)\n",
        "plt.grid(axis='y', alpha=0.75)\n",
        "plt.gca().set_axisbelow(True)\n",
        "plt.show()"
      ]
    },
    {
      "cell_type": "code",
      "execution_count": 15,
      "metadata": {
        "colab": {
          "base_uri": "https://localhost:8080/",
          "height": 0
        },
        "id": "pbN4gT2Z_8Fl",
        "outputId": "59b09b83-ffb0-4981-9820-523caa67fa51"
      },
      "outputs": [
        {
          "data": {
            "image/png": "[encoded data removed]",
            "text/plain": [
              "<Figure size 432x288 with 2 Axes>"
            ]
          },
          "metadata": {
            "needs_background": "light"
          },
          "output_type": "display_data"
        }
      ],
      "source": [
        "sns.heatmap(x_data[0],cmap='gray_r')\n",
        "plt.show()"
      ]
    },
    {
      "cell_type": "markdown",
      "metadata": {
        "id": "jOBUMsno_8Fl"
      },
      "source": [
        "## Missing Values Check"
      ]
    },
    {
      "cell_type": "code",
      "execution_count": 16,
      "metadata": {
        "colab": {
          "base_uri": "https://localhost:8080/"
        },
        "id": "mUKKawcC_8Fl",
        "outputId": "a966ade4-75da-4a53-dbc2-1355e1a290ce"
      },
      "outputs": [
        {
          "data": {
            "text/plain": [
              "False"
            ]
          },
          "execution_count": 16,
          "metadata": {},
          "output_type": "execute_result"
        }
      ],
      "source": [
        "np.isnan(x_data).any()"
      ]
    },
    {
      "cell_type": "code",
      "execution_count": 17,
      "metadata": {
        "colab": {
          "base_uri": "https://localhost:8080/"
        },
        "id": "6Wieio8Z_8Fm",
        "outputId": "b8b47034-7cb5-4bfe-9c38-bdaa1ed96040"
      },
      "outputs": [
        {
          "data": {
            "text/plain": [
              "False"
            ]
          },
          "execution_count": 17,
          "metadata": {},
          "output_type": "execute_result"
        }
      ],
      "source": [
        "np.isnan(y_data).any()"
      ]
    },
    {
      "cell_type": "markdown",
      "metadata": {
        "id": "t2nYkv9FP3TO"
      },
      "source": [
        "<style>\n",
        ".header {width:100%;\n",
        "background:linear-gradient(to right,#5A4A9A,#4673B1,#339BA0,#7FC3B5);\n",
        "color: white;\n",
        "text-align: center;\n",
        "border-radius: 10px;\n",
        "height: 50px;\n",
        "}\n",
        "</style>\n",
        "<h1 class=\"header\">Data Pre-processing</h1>"
      ]
    },
    {
      "cell_type": "markdown",
      "metadata": {
        "id": "ss1nLQOm_8Fm"
      },
      "source": [
        "## MaxAbs Scaling"
      ]
    },
    {
      "cell_type": "code",
      "execution_count": 18,
      "metadata": {
        "colab": {
          "base_uri": "https://localhost:8080/"
        },
        "id": "6ZfdLRle_8Fn",
        "outputId": "0ca484dd-94bf-4bb0-f75c-1b8616f9e2f3"
      },
      "outputs": [
        {
          "data": {
            "text/plain": [
              "255"
            ]
          },
          "execution_count": 18,
          "metadata": {},
          "output_type": "execute_result"
        }
      ],
      "source": [
        "x_data[0].max()"
      ]
    },
    {
      "cell_type": "code",
      "execution_count": 19,
      "metadata": {
        "id": "FkQG6923_8Fn"
      },
      "outputs": [],
      "source": [
        "x_scaled = np.array([maxabs_scale(x) for x in x_data])"
      ]
    },
    {
      "cell_type": "code",
      "execution_count": 20,
      "metadata": {
        "colab": {
          "base_uri": "https://localhost:8080/",
          "height": 700
        },
        "id": "1eoglvXi_8Fn",
        "outputId": "baf00b18-5e0b-47ab-cb3d-8b51e9d0de43"
      },
      "outputs": [
        {
          "data": {
            "image/png": "[encoded data removed]",
            "text/plain": [
              "<Figure size 864x864 with 1 Axes>"
            ]
          },
          "metadata": {
            "needs_background": "light"
          },
          "output_type": "display_data"
        }
      ],
      "source": [
        "plt.figure(figsize=(12,12))\n",
        "sns.heatmap(x_scaled[0],annot=True,cbar=False,cmap='gray_r',fmt='.1f')\n",
        "plt.show()"
      ]
    },
    {
      "cell_type": "markdown",
      "metadata": {
        "id": "TuRp8VwA_8Fo"
      },
      "source": [
        "## Adjusting Shape And Dimensions"
      ]
    },
    {
      "cell_type": "code",
      "execution_count": 21,
      "metadata": {
        "colab": {
          "base_uri": "https://localhost:8080/"
        },
        "id": "kUapBDTw_8Fo",
        "outputId": "6b45892d-e06f-4bb0-93b9-f88506b6f978"
      },
      "outputs": [
        {
          "name": "stdout",
          "output_type": "stream",
          "text": [
            "x_scaled shape:                (16800, 32, 32, 1)\n"
          ]
        }
      ],
      "source": [
        "x_scaled = np.expand_dims(x_scaled,axis=-1)\n",
        "x_scaled.shape\n",
        "print(f'{\"x_scaled shape:\":30} {x_scaled.shape}')"
      ]
    },
    {
      "cell_type": "markdown",
      "metadata": {
        "id": "0y3htCGf_8Fo"
      },
      "source": [
        "## OneHot Encoding"
      ]
    },
    {
      "cell_type": "code",
      "execution_count": 22,
      "metadata": {
        "colab": {
          "base_uri": "https://localhost:8080/"
        },
        "id": "eSskr8xY_8Fo",
        "outputId": "3e3913ca-3e27-4e46-af15-253c5638a7a9"
      },
      "outputs": [
        {
          "name": "stdout",
          "output_type": "stream",
          "text": [
            "y_OneHot shape:                (16800, 28)\n"
          ]
        }
      ],
      "source": [
        "y_OneHot = to_categorical(y_data, num_classes = 28)\n",
        "print(f'{\"y_OneHot shape:\":30} {y_OneHot.shape}')"
      ]
    },
    {
      "cell_type": "markdown",
      "metadata": {
        "id": "D50QNGJD_8Fp"
      },
      "source": [
        "## Split Train & Test"
      ]
    },
    {
      "cell_type": "code",
      "execution_count": 23,
      "metadata": {
        "id": "dIMeGC8v_8Fp"
      },
      "outputs": [],
      "source": [
        "x_train, x_test, y_train, y_test = train_test_split(x_scaled, y_OneHot, test_size=0.3, random_state=0, stratify=y_data)"
      ]
    },
    {
      "cell_type": "code",
      "execution_count": 24,
      "metadata": {
        "colab": {
          "base_uri": "https://localhost:8080/"
        },
        "id": "f5L9i_jN_8Fq",
        "outputId": "30eac96c-9297-4058-c7a2-5a0a357cf59e"
      },
      "outputs": [
        {
          "data": {
            "text/plain": [
              "(11760, 32, 32, 1)"
            ]
          },
          "execution_count": 24,
          "metadata": {},
          "output_type": "execute_result"
        }
      ],
      "source": [
        "x_train.shape"
      ]
    },
    {
      "cell_type": "code",
      "execution_count": 25,
      "metadata": {
        "colab": {
          "base_uri": "https://localhost:8080/"
        },
        "id": "LG_VvL6E_8Fq",
        "outputId": "41e1d554-9579-4401-fcd1-e4c85ef84f29"
      },
      "outputs": [
        {
          "data": {
            "text/plain": [
              "(5040, 32, 32, 1)"
            ]
          },
          "execution_count": 25,
          "metadata": {},
          "output_type": "execute_result"
        }
      ],
      "source": [
        "x_test.shape"
      ]
    },
    {
      "cell_type": "markdown",
      "metadata": {
        "id": "tiPqdLnsP3TX"
      },
      "source": [
        "<style>\n",
        ".header {width:100%;\n",
        "background:linear-gradient(to right,#5A4A9A,#4673B1,#339BA0,#7FC3B5);\n",
        "color: white;\n",
        "text-align: center;\n",
        "border-radius: 10px;\n",
        "height: 50px;\n",
        "}\n",
        "</style>\n",
        "<h1 class=\"header\">Model Structuring</h1>"
      ]
    },
    {
      "cell_type": "code",
      "execution_count": 26,
      "metadata": {
        "id": "54zQTOO5_8Fr"
      },
      "outputs": [],
      "source": [
        "model = Sequential()\n",
        "\n",
        "model.add(layers.Conv2D(filters = 6, kernel_size = (5,5),padding='valid', input_shape = (32,32,1),kernel_regularizer=l2(0.0005)))\n",
        "model.add(layers.BatchNormalization())\n",
        "model.add(layers.Activation('relu'))\n",
        "model.add(layers.MaxPooling2D(pool_size = (2,2), strides = (2,2)))\n",
        "model.add(layers.Conv2D(filters = 16, kernel_size = (5,5),padding='valid',kernel_regularizer=l2(0.0005)))\n",
        "model.add(layers.BatchNormalization())\n",
        "model.add(layers.Activation('relu'))\n",
        "model.add(layers.MaxPooling2D(pool_size = (2,2), strides = (2,2)))\n",
        "model.add(layers.Flatten())\n",
        "\n",
        "model.add(layers.Dense(units = 250))\n",
        "model.add(layers.BatchNormalization())\n",
        "model.add(layers.Activation('relu'))\n",
        "model.add(layers.Dropout(0.2))\n",
        "\n",
        "model.add(layers.Dense(units = 120))\n",
        "model.add(layers.BatchNormalization())\n",
        "model.add(layers.Activation('relu'))\n",
        "model.add(layers.Dropout(0.2))\n",
        "\n",
        "model.add(layers.Dense(units = 84))\n",
        "model.add(layers.BatchNormalization())\n",
        "model.add(layers.Activation('relu'))\n",
        "\n",
        "\n",
        "model.add(layers.Dense(units = 28, activation = 'softmax'))"
      ]
    },
    {
      "cell_type": "markdown",
      "metadata": {
        "id": "H5XJTGZzE6ru"
      },
      "source": []
    },
    {
      "cell_type": "code",
      "execution_count": 27,
      "metadata": {
        "colab": {
          "base_uri": "https://localhost:8080/"
        },
        "id": "VfVIZZPf_8Fr",
        "outputId": "66113bf4-7266-47df-dae8-945c5062645e"
      },
      "outputs": [
        {
          "name": "stdout",
          "output_type": "stream",
          "text": [
            "Model: \"sequential\"\n",
            "_________________________________________________________________\n",
            " Layer (type)                Output Shape              Param #   \n",
            "=================================================================\n",
            " conv2d (Conv2D)             (None, 28, 28, 6)         156       \n",
            "                                                                 \n",
            " batch_normalization (BatchN  (None, 28, 28, 6)        24        \n",
            " ormalization)                                                   \n",
            "                                                                 \n",
            " activation (Activation)     (None, 28, 28, 6)         0         \n",
            "                                                                 \n",
            " max_pooling2d (MaxPooling2D  (None, 14, 14, 6)        0         \n",
            " )                                                               \n",
            "                                                                 \n",
            " conv2d_1 (Conv2D)           (None, 10, 10, 16)        2416      \n",
            "                                                                 \n",
            " batch_normalization_1 (Batc  (None, 10, 10, 16)       64        \n",
            " hNormalization)                                                 \n",
            "                                                                 \n",
            " activation_1 (Activation)   (None, 10, 10, 16)        0         \n",
            "                                                                 \n",
            " max_pooling2d_1 (MaxPooling  (None, 5, 5, 16)         0         \n",
            " 2D)                                                             \n",
            "                                                                 \n",
            " flatten (Flatten)           (None, 400)               0         \n",
            "                                                                 \n",
            " dense (Dense)               (None, 250)               100250    \n",
            "                                                                 \n",
            " batch_normalization_2 (Batc  (None, 250)              1000      \n",
            " hNormalization)                                                 \n",
            "                                                                 \n",
            " activation_2 (Activation)   (None, 250)               0         \n",
            "                                                                 \n",
            " dropout (Dropout)           (None, 250)               0         \n",
            "                                                                 \n",
            " dense_1 (Dense)             (None, 120)               30120     \n",
            "                                                                 \n",
            " batch_normalization_3 (Batc  (None, 120)              480       \n",
            " hNormalization)                                                 \n",
            "                                                                 \n",
            " activation_3 (Activation)   (None, 120)               0         \n",
            "                                                                 \n",
            " dropout_1 (Dropout)         (None, 120)               0         \n",
            "                                                                 \n",
            " dense_2 (Dense)             (None, 84)                10164     \n",
            "                                                                 \n",
            " batch_normalization_4 (Batc  (None, 84)               336       \n",
            " hNormalization)                                                 \n",
            "                                                                 \n",
            " activation_4 (Activation)   (None, 84)                0         \n",
            "                                                                 \n",
            " dense_3 (Dense)             (None, 28)                2380      \n",
            "                                                                 \n",
            "=================================================================\n",
            "Total params: 147,390\n",
            "Trainable params: 146,438\n",
            "Non-trainable params: 952\n",
            "_________________________________________________________________\n"
          ]
        }
      ],
      "source": [
        "model.compile(loss=\"categorical_crossentropy\", optimizer=\"adam\", metrics=['accuracy'])\n",
        "model.summary()"
      ]
    },
    {
      "cell_type": "markdown",
      "metadata": {
        "id": "cQpFNU08P3TX"
      },
      "source": [
        "<style>\n",
        ".header {width:100%;\n",
        "background:linear-gradient(to right,#5A4A9A,#4673B1,#339BA0,#7FC3B5);\n",
        "color: white;\n",
        "text-align: center;\n",
        "border-radius: 10px;\n",
        "height: 50px;\n",
        "}\n",
        "</style>\n",
        "<h1 class=\"header\">Model Training</h1>"
      ]
    },
    {
      "cell_type": "code",
      "execution_count": 28,
      "metadata": {
        "colab": {
          "base_uri": "https://localhost:8080/"
        },
        "id": "5QoQMSUH_8Fs",
        "outputId": "54e84b83-762a-4167-8efb-fdd83362a659"
      },
      "outputs": [
        {
          "name": "stdout",
          "output_type": "stream",
          "text": [
            "Epoch 1/30\n",
            "294/294 [==============================] - 12s 36ms/step - loss: 2.1707 - accuracy: 0.3683 - val_loss: 4.3724 - val_accuracy: 0.0838\n",
            "Epoch 2/30\n",
            "294/294 [==============================] - 10s 34ms/step - loss: 1.1392 - accuracy: 0.6346 - val_loss: 0.9278 - val_accuracy: 0.6837\n",
            "Epoch 3/30\n",
            "294/294 [==============================] - 10s 34ms/step - loss: 0.8150 - accuracy: 0.7374 - val_loss: 0.6508 - val_accuracy: 0.7768\n",
            "Epoch 4/30\n",
            "294/294 [==============================] - 10s 34ms/step - loss: 0.6561 - accuracy: 0.7878 - val_loss: 0.5619 - val_accuracy: 0.8214\n",
            "Epoch 5/30\n",
            "294/294 [==============================] - 10s 34ms/step - loss: 0.5511 - accuracy: 0.8154 - val_loss: 0.8007 - val_accuracy: 0.7236\n",
            "Epoch 6/30\n",
            "294/294 [==============================] - 10s 34ms/step - loss: 0.4774 - accuracy: 0.8396 - val_loss: 0.7848 - val_accuracy: 0.7343\n",
            "Epoch 7/30\n",
            "294/294 [==============================] - 12s 40ms/step - loss: 0.4322 - accuracy: 0.8595 - val_loss: 0.6813 - val_accuracy: 0.7734\n",
            "Epoch 8/30\n",
            "294/294 [==============================] - 11s 36ms/step - loss: 0.3846 - accuracy: 0.8740 - val_loss: 0.7500 - val_accuracy: 0.7513\n",
            "Epoch 9/30\n",
            "294/294 [==============================] - 12s 41ms/step - loss: 0.3619 - accuracy: 0.8829 - val_loss: 0.4532 - val_accuracy: 0.8635\n",
            "Epoch 10/30\n",
            "294/294 [==============================] - 10s 34ms/step - loss: 0.3324 - accuracy: 0.8918 - val_loss: 0.3714 - val_accuracy: 0.8784\n",
            "Epoch 11/30\n",
            "294/294 [==============================] - 10s 34ms/step - loss: 0.3074 - accuracy: 0.9002 - val_loss: 0.3830 - val_accuracy: 0.8784\n",
            "Epoch 12/30\n",
            "294/294 [==============================] - 10s 34ms/step - loss: 0.2885 - accuracy: 0.9077 - val_loss: 0.4318 - val_accuracy: 0.8576\n",
            "Epoch 13/30\n",
            "294/294 [==============================] - 10s 34ms/step - loss: 0.2807 - accuracy: 0.9088 - val_loss: 0.4626 - val_accuracy: 0.8520\n",
            "Epoch 14/30\n",
            "294/294 [==============================] - 10s 34ms/step - loss: 0.2538 - accuracy: 0.9145 - val_loss: 0.3732 - val_accuracy: 0.8869\n",
            "Epoch 15/30\n",
            "294/294 [==============================] - 10s 34ms/step - loss: 0.2308 - accuracy: 0.9270 - val_loss: 0.4313 - val_accuracy: 0.8682\n",
            "Epoch 16/30\n",
            "294/294 [==============================] - 10s 34ms/step - loss: 0.2097 - accuracy: 0.9353 - val_loss: 0.7903 - val_accuracy: 0.7496\n",
            "Epoch 17/30\n",
            "294/294 [==============================] - 10s 34ms/step - loss: 0.2110 - accuracy: 0.9313 - val_loss: 0.5792 - val_accuracy: 0.8155\n",
            "Epoch 18/30\n",
            "294/294 [==============================] - 10s 35ms/step - loss: 0.2083 - accuracy: 0.9320 - val_loss: 0.4207 - val_accuracy: 0.8780\n",
            "Epoch 19/30\n",
            "294/294 [==============================] - 10s 35ms/step - loss: 0.1883 - accuracy: 0.9409 - val_loss: 0.6648 - val_accuracy: 0.8270\n",
            "Epoch 20/30\n",
            "294/294 [==============================] - 10s 34ms/step - loss: 0.1893 - accuracy: 0.9373 - val_loss: 0.5529 - val_accuracy: 0.8435\n",
            "Epoch 21/30\n",
            "294/294 [==============================] - 10s 34ms/step - loss: 0.1861 - accuracy: 0.9436 - val_loss: 0.4884 - val_accuracy: 0.8474\n",
            "Epoch 22/30\n",
            "294/294 [==============================] - 10s 34ms/step - loss: 0.1861 - accuracy: 0.9407 - val_loss: 0.9719 - val_accuracy: 0.7151\n",
            "Epoch 23/30\n",
            "294/294 [==============================] - 10s 34ms/step - loss: 0.1493 - accuracy: 0.9511 - val_loss: 0.5716 - val_accuracy: 0.8316\n",
            "Epoch 24/30\n",
            "294/294 [==============================] - 10s 34ms/step - loss: 0.1597 - accuracy: 0.9473 - val_loss: 0.4621 - val_accuracy: 0.8661\n",
            "Epoch 25/30\n",
            "294/294 [==============================] - 10s 34ms/step - loss: 0.1471 - accuracy: 0.9546 - val_loss: 0.3786 - val_accuracy: 0.8937\n",
            "Epoch 26/30\n",
            "294/294 [==============================] - 10s 34ms/step - loss: 0.1441 - accuracy: 0.9539 - val_loss: 0.4240 - val_accuracy: 0.8703\n",
            "Epoch 27/30\n",
            "294/294 [==============================] - 10s 34ms/step - loss: 0.1455 - accuracy: 0.9557 - val_loss: 0.3779 - val_accuracy: 0.8963\n",
            "Epoch 28/30\n",
            "294/294 [==============================] - 10s 34ms/step - loss: 0.1445 - accuracy: 0.9541 - val_loss: 0.4731 - val_accuracy: 0.8729\n",
            "Epoch 29/30\n",
            "294/294 [==============================] - 10s 34ms/step - loss: 0.1446 - accuracy: 0.9537 - val_loss: 0.4744 - val_accuracy: 0.8652\n",
            "Epoch 30/30\n",
            "294/294 [==============================] - 10s 34ms/step - loss: 0.1309 - accuracy: 0.9595 - val_loss: 0.4132 - val_accuracy: 0.8946\n"
          ]
        }
      ],
      "source": [
        "history = model.fit(    x_train,\n",
        "                        y_train,\n",
        "                        batch_size=32,\n",
        "                        epochs=30,\n",
        "                        verbose=1,\n",
        "                        validation_split=0.2)"
      ]
    },
    {
      "cell_type": "markdown",
      "metadata": {
        "id": "U3QNtCHdP3TY"
      },
      "source": [
        "<style>\n",
        ".header {width:100%;\n",
        "background:linear-gradient(to right,#5A4A9A,#4673B1,#339BA0,#7FC3B5);\n",
        "color: white;\n",
        "text-align: center;\n",
        "border-radius: 10px;\n",
        "height: 50px;\n",
        "}\n",
        "</style>\n",
        "<h1 class=\"header\">Model Evaluation</h1>"
      ]
    },
    {
      "cell_type": "code",
      "execution_count": 29,
      "metadata": {
        "id": "t2x7OpWe_8Fs"
      },
      "outputs": [],
      "source": [
        "y_pred = np.argmax(model.predict(x_test), axis=-1)"
      ]
    },
    {
      "cell_type": "code",
      "execution_count": 30,
      "metadata": {
        "id": "N7pmBJaDa90d"
      },
      "outputs": [],
      "source": [
        "y_true = np.argmax(y_test, axis=-1)"
      ]
    },
    {
      "cell_type": "code",
      "execution_count": 31,
      "metadata": {
        "colab": {
          "base_uri": "https://localhost:8080/"
        },
        "id": "bQG6jWiV_8Ft",
        "outputId": "f54159df-1edd-4722-d3d4-dd1a794e58ab"
      },
      "outputs": [
        {
          "name": "stdout",
          "output_type": "stream",
          "text": [
            "accuracy   0.8944\n",
            "precision  0.8990\n",
            "recall     0.8944\n"
          ]
        }
      ],
      "source": [
        "print(f'{\"accuracy\":10} {(y_pred == y_true).mean():.4f}')\n",
        "print(f'{\"precision\":10} {precision_score(y_true,y_pred,average=\"macro\"):.4f}')\n",
        "print(f'{\"recall\":10} {recall_score(y_true,y_pred,average=\"macro\"):.4f}')"
      ]
    },
    {
      "cell_type": "markdown",
      "metadata": {
        "id": "kLy9I5TJ_8Ft"
      },
      "source": [
        "## Confusion Matrix"
      ]
    },
    {
      "cell_type": "code",
      "execution_count": 32,
      "metadata": {
        "colab": {
          "base_uri": "https://localhost:8080/",
          "height": 988
        },
        "id": "ocoAcTya_8Ft",
        "outputId": "65ce6c63-22c3-410b-ddee-23d6904bf158"
      },
      "outputs": [
        {
          "data": {
            "text/html": [
              "\n",
              "  <div id=\"df-a87d9676-52b0-430e-b62b-958365710d68\">\n",
              "    <div class=\"colab-df-container\">\n",
              "      <div>\n",
              "<style scoped>\n",
              "    .dataframe tbody tr th:only-of-type {\n",
              "        vertical-align: middle;\n",
              "    }\n",
              "\n",
              "    .dataframe tbody tr th {\n",
              "        vertical-align: top;\n",
              "    }\n",
              "\n",
              "    .dataframe thead th {\n",
              "        text-align: right;\n",
              "    }\n",
              "</style>\n",
              "<table border=\"1\" class=\"dataframe\">\n",
              "  <thead>\n",
              "    <tr style=\"text-align: right;\">\n",
              "      <th>Predicted</th>\n",
              "      <th>أ</th>\n",
              "      <th>ب</th>\n",
              "      <th>ت</th>\n",
              "      <th>ث</th>\n",
              "      <th>ج</th>\n",
              "      <th>ح</th>\n",
              "      <th>خ</th>\n",
              "      <th>د</th>\n",
              "      <th>ذ</th>\n",
              "      <th>ر</th>\n",
              "      <th>...</th>\n",
              "      <th>غ</th>\n",
              "      <th>ف</th>\n",
              "      <th>ق</th>\n",
              "      <th>ك</th>\n",
              "      <th>ل</th>\n",
              "      <th>م</th>\n",
              "      <th>ن</th>\n",
              "      <th>و</th>\n",
              "      <th>ي</th>\n",
              "      <th>ﻫ</th>\n",
              "    </tr>\n",
              "    <tr>\n",
              "      <th>True</th>\n",
              "      <th></th>\n",
              "      <th></th>\n",
              "      <th></th>\n",
              "      <th></th>\n",
              "      <th></th>\n",
              "      <th></th>\n",
              "      <th></th>\n",
              "      <th></th>\n",
              "      <th></th>\n",
              "      <th></th>\n",
              "      <th></th>\n",
              "      <th></th>\n",
              "      <th></th>\n",
              "      <th></th>\n",
              "      <th></th>\n",
              "      <th></th>\n",
              "      <th></th>\n",
              "      <th></th>\n",
              "      <th></th>\n",
              "      <th></th>\n",
              "      <th></th>\n",
              "    </tr>\n",
              "  </thead>\n",
              "  <tbody>\n",
              "    <tr>\n",
              "      <th>أ</th>\n",
              "      <td>178</td>\n",
              "      <td>0</td>\n",
              "      <td>0</td>\n",
              "      <td>0</td>\n",
              "      <td>0</td>\n",
              "      <td>0</td>\n",
              "      <td>0</td>\n",
              "      <td>0</td>\n",
              "      <td>0</td>\n",
              "      <td>1</td>\n",
              "      <td>...</td>\n",
              "      <td>0</td>\n",
              "      <td>0</td>\n",
              "      <td>0</td>\n",
              "      <td>0</td>\n",
              "      <td>0</td>\n",
              "      <td>0</td>\n",
              "      <td>0</td>\n",
              "      <td>1</td>\n",
              "      <td>0</td>\n",
              "      <td>0</td>\n",
              "    </tr>\n",
              "    <tr>\n",
              "      <th>ب</th>\n",
              "      <td>0</td>\n",
              "      <td>165</td>\n",
              "      <td>1</td>\n",
              "      <td>0</td>\n",
              "      <td>0</td>\n",
              "      <td>0</td>\n",
              "      <td>0</td>\n",
              "      <td>1</td>\n",
              "      <td>0</td>\n",
              "      <td>1</td>\n",
              "      <td>...</td>\n",
              "      <td>0</td>\n",
              "      <td>0</td>\n",
              "      <td>0</td>\n",
              "      <td>0</td>\n",
              "      <td>6</td>\n",
              "      <td>0</td>\n",
              "      <td>5</td>\n",
              "      <td>0</td>\n",
              "      <td>0</td>\n",
              "      <td>0</td>\n",
              "    </tr>\n",
              "    <tr>\n",
              "      <th>ت</th>\n",
              "      <td>0</td>\n",
              "      <td>0</td>\n",
              "      <td>153</td>\n",
              "      <td>11</td>\n",
              "      <td>0</td>\n",
              "      <td>0</td>\n",
              "      <td>0</td>\n",
              "      <td>1</td>\n",
              "      <td>0</td>\n",
              "      <td>0</td>\n",
              "      <td>...</td>\n",
              "      <td>0</td>\n",
              "      <td>0</td>\n",
              "      <td>0</td>\n",
              "      <td>0</td>\n",
              "      <td>0</td>\n",
              "      <td>0</td>\n",
              "      <td>15</td>\n",
              "      <td>0</td>\n",
              "      <td>0</td>\n",
              "      <td>0</td>\n",
              "    </tr>\n",
              "    <tr>\n",
              "      <th>ث</th>\n",
              "      <td>0</td>\n",
              "      <td>1</td>\n",
              "      <td>21</td>\n",
              "      <td>145</td>\n",
              "      <td>0</td>\n",
              "      <td>0</td>\n",
              "      <td>0</td>\n",
              "      <td>2</td>\n",
              "      <td>0</td>\n",
              "      <td>0</td>\n",
              "      <td>...</td>\n",
              "      <td>0</td>\n",
              "      <td>0</td>\n",
              "      <td>2</td>\n",
              "      <td>3</td>\n",
              "      <td>0</td>\n",
              "      <td>0</td>\n",
              "      <td>5</td>\n",
              "      <td>0</td>\n",
              "      <td>1</td>\n",
              "      <td>0</td>\n",
              "    </tr>\n",
              "    <tr>\n",
              "      <th>ج</th>\n",
              "      <td>0</td>\n",
              "      <td>0</td>\n",
              "      <td>0</td>\n",
              "      <td>0</td>\n",
              "      <td>160</td>\n",
              "      <td>16</td>\n",
              "      <td>0</td>\n",
              "      <td>0</td>\n",
              "      <td>0</td>\n",
              "      <td>0</td>\n",
              "      <td>...</td>\n",
              "      <td>0</td>\n",
              "      <td>0</td>\n",
              "      <td>0</td>\n",
              "      <td>0</td>\n",
              "      <td>0</td>\n",
              "      <td>2</td>\n",
              "      <td>0</td>\n",
              "      <td>1</td>\n",
              "      <td>0</td>\n",
              "      <td>1</td>\n",
              "    </tr>\n",
              "    <tr>\n",
              "      <th>ح</th>\n",
              "      <td>0</td>\n",
              "      <td>0</td>\n",
              "      <td>0</td>\n",
              "      <td>0</td>\n",
              "      <td>0</td>\n",
              "      <td>167</td>\n",
              "      <td>4</td>\n",
              "      <td>0</td>\n",
              "      <td>0</td>\n",
              "      <td>0</td>\n",
              "      <td>...</td>\n",
              "      <td>0</td>\n",
              "      <td>0</td>\n",
              "      <td>0</td>\n",
              "      <td>0</td>\n",
              "      <td>0</td>\n",
              "      <td>0</td>\n",
              "      <td>1</td>\n",
              "      <td>1</td>\n",
              "      <td>0</td>\n",
              "      <td>1</td>\n",
              "    </tr>\n",
              "    <tr>\n",
              "      <th>خ</th>\n",
              "      <td>0</td>\n",
              "      <td>0</td>\n",
              "      <td>0</td>\n",
              "      <td>0</td>\n",
              "      <td>0</td>\n",
              "      <td>8</td>\n",
              "      <td>160</td>\n",
              "      <td>0</td>\n",
              "      <td>0</td>\n",
              "      <td>0</td>\n",
              "      <td>...</td>\n",
              "      <td>6</td>\n",
              "      <td>0</td>\n",
              "      <td>0</td>\n",
              "      <td>0</td>\n",
              "      <td>0</td>\n",
              "      <td>0</td>\n",
              "      <td>0</td>\n",
              "      <td>1</td>\n",
              "      <td>0</td>\n",
              "      <td>0</td>\n",
              "    </tr>\n",
              "    <tr>\n",
              "      <th>د</th>\n",
              "      <td>0</td>\n",
              "      <td>0</td>\n",
              "      <td>0</td>\n",
              "      <td>0</td>\n",
              "      <td>0</td>\n",
              "      <td>0</td>\n",
              "      <td>0</td>\n",
              "      <td>164</td>\n",
              "      <td>0</td>\n",
              "      <td>10</td>\n",
              "      <td>...</td>\n",
              "      <td>0</td>\n",
              "      <td>0</td>\n",
              "      <td>0</td>\n",
              "      <td>0</td>\n",
              "      <td>4</td>\n",
              "      <td>0</td>\n",
              "      <td>1</td>\n",
              "      <td>0</td>\n",
              "      <td>0</td>\n",
              "      <td>0</td>\n",
              "    </tr>\n",
              "    <tr>\n",
              "      <th>ذ</th>\n",
              "      <td>0</td>\n",
              "      <td>0</td>\n",
              "      <td>0</td>\n",
              "      <td>0</td>\n",
              "      <td>0</td>\n",
              "      <td>0</td>\n",
              "      <td>0</td>\n",
              "      <td>9</td>\n",
              "      <td>160</td>\n",
              "      <td>0</td>\n",
              "      <td>...</td>\n",
              "      <td>0</td>\n",
              "      <td>1</td>\n",
              "      <td>0</td>\n",
              "      <td>0</td>\n",
              "      <td>0</td>\n",
              "      <td>0</td>\n",
              "      <td>1</td>\n",
              "      <td>1</td>\n",
              "      <td>0</td>\n",
              "      <td>0</td>\n",
              "    </tr>\n",
              "    <tr>\n",
              "      <th>ر</th>\n",
              "      <td>1</td>\n",
              "      <td>0</td>\n",
              "      <td>0</td>\n",
              "      <td>0</td>\n",
              "      <td>0</td>\n",
              "      <td>0</td>\n",
              "      <td>0</td>\n",
              "      <td>5</td>\n",
              "      <td>0</td>\n",
              "      <td>169</td>\n",
              "      <td>...</td>\n",
              "      <td>0</td>\n",
              "      <td>0</td>\n",
              "      <td>0</td>\n",
              "      <td>0</td>\n",
              "      <td>1</td>\n",
              "      <td>0</td>\n",
              "      <td>1</td>\n",
              "      <td>1</td>\n",
              "      <td>0</td>\n",
              "      <td>0</td>\n",
              "    </tr>\n",
              "    <tr>\n",
              "      <th>ز</th>\n",
              "      <td>1</td>\n",
              "      <td>0</td>\n",
              "      <td>0</td>\n",
              "      <td>0</td>\n",
              "      <td>0</td>\n",
              "      <td>0</td>\n",
              "      <td>1</td>\n",
              "      <td>0</td>\n",
              "      <td>6</td>\n",
              "      <td>16</td>\n",
              "      <td>...</td>\n",
              "      <td>0</td>\n",
              "      <td>0</td>\n",
              "      <td>0</td>\n",
              "      <td>0</td>\n",
              "      <td>0</td>\n",
              "      <td>0</td>\n",
              "      <td>0</td>\n",
              "      <td>0</td>\n",
              "      <td>0</td>\n",
              "      <td>0</td>\n",
              "    </tr>\n",
              "    <tr>\n",
              "      <th>س</th>\n",
              "      <td>0</td>\n",
              "      <td>5</td>\n",
              "      <td>2</td>\n",
              "      <td>0</td>\n",
              "      <td>0</td>\n",
              "      <td>0</td>\n",
              "      <td>0</td>\n",
              "      <td>0</td>\n",
              "      <td>0</td>\n",
              "      <td>0</td>\n",
              "      <td>...</td>\n",
              "      <td>0</td>\n",
              "      <td>2</td>\n",
              "      <td>0</td>\n",
              "      <td>0</td>\n",
              "      <td>0</td>\n",
              "      <td>2</td>\n",
              "      <td>1</td>\n",
              "      <td>0</td>\n",
              "      <td>1</td>\n",
              "      <td>0</td>\n",
              "    </tr>\n",
              "    <tr>\n",
              "      <th>ش</th>\n",
              "      <td>0</td>\n",
              "      <td>0</td>\n",
              "      <td>0</td>\n",
              "      <td>4</td>\n",
              "      <td>0</td>\n",
              "      <td>0</td>\n",
              "      <td>0</td>\n",
              "      <td>0</td>\n",
              "      <td>0</td>\n",
              "      <td>0</td>\n",
              "      <td>...</td>\n",
              "      <td>0</td>\n",
              "      <td>3</td>\n",
              "      <td>12</td>\n",
              "      <td>0</td>\n",
              "      <td>0</td>\n",
              "      <td>0</td>\n",
              "      <td>1</td>\n",
              "      <td>0</td>\n",
              "      <td>1</td>\n",
              "      <td>0</td>\n",
              "    </tr>\n",
              "    <tr>\n",
              "      <th>ص</th>\n",
              "      <td>0</td>\n",
              "      <td>0</td>\n",
              "      <td>0</td>\n",
              "      <td>0</td>\n",
              "      <td>0</td>\n",
              "      <td>0</td>\n",
              "      <td>0</td>\n",
              "      <td>0</td>\n",
              "      <td>0</td>\n",
              "      <td>0</td>\n",
              "      <td>...</td>\n",
              "      <td>0</td>\n",
              "      <td>0</td>\n",
              "      <td>0</td>\n",
              "      <td>0</td>\n",
              "      <td>0</td>\n",
              "      <td>0</td>\n",
              "      <td>0</td>\n",
              "      <td>0</td>\n",
              "      <td>1</td>\n",
              "      <td>3</td>\n",
              "    </tr>\n",
              "    <tr>\n",
              "      <th>ض</th>\n",
              "      <td>0</td>\n",
              "      <td>0</td>\n",
              "      <td>3</td>\n",
              "      <td>0</td>\n",
              "      <td>0</td>\n",
              "      <td>0</td>\n",
              "      <td>0</td>\n",
              "      <td>0</td>\n",
              "      <td>0</td>\n",
              "      <td>0</td>\n",
              "      <td>...</td>\n",
              "      <td>0</td>\n",
              "      <td>13</td>\n",
              "      <td>0</td>\n",
              "      <td>1</td>\n",
              "      <td>0</td>\n",
              "      <td>0</td>\n",
              "      <td>5</td>\n",
              "      <td>0</td>\n",
              "      <td>0</td>\n",
              "      <td>0</td>\n",
              "    </tr>\n",
              "    <tr>\n",
              "      <th>ط</th>\n",
              "      <td>0</td>\n",
              "      <td>0</td>\n",
              "      <td>0</td>\n",
              "      <td>0</td>\n",
              "      <td>0</td>\n",
              "      <td>0</td>\n",
              "      <td>0</td>\n",
              "      <td>1</td>\n",
              "      <td>0</td>\n",
              "      <td>0</td>\n",
              "      <td>...</td>\n",
              "      <td>0</td>\n",
              "      <td>0</td>\n",
              "      <td>0</td>\n",
              "      <td>0</td>\n",
              "      <td>0</td>\n",
              "      <td>0</td>\n",
              "      <td>0</td>\n",
              "      <td>0</td>\n",
              "      <td>0</td>\n",
              "      <td>1</td>\n",
              "    </tr>\n",
              "    <tr>\n",
              "      <th>ظ</th>\n",
              "      <td>0</td>\n",
              "      <td>0</td>\n",
              "      <td>0</td>\n",
              "      <td>0</td>\n",
              "      <td>0</td>\n",
              "      <td>0</td>\n",
              "      <td>0</td>\n",
              "      <td>0</td>\n",
              "      <td>0</td>\n",
              "      <td>0</td>\n",
              "      <td>...</td>\n",
              "      <td>0</td>\n",
              "      <td>0</td>\n",
              "      <td>0</td>\n",
              "      <td>0</td>\n",
              "      <td>0</td>\n",
              "      <td>0</td>\n",
              "      <td>1</td>\n",
              "      <td>0</td>\n",
              "      <td>0</td>\n",
              "      <td>2</td>\n",
              "    </tr>\n",
              "    <tr>\n",
              "      <th>ع</th>\n",
              "      <td>0</td>\n",
              "      <td>1</td>\n",
              "      <td>0</td>\n",
              "      <td>0</td>\n",
              "      <td>3</td>\n",
              "      <td>4</td>\n",
              "      <td>0</td>\n",
              "      <td>0</td>\n",
              "      <td>0</td>\n",
              "      <td>1</td>\n",
              "      <td>...</td>\n",
              "      <td>3</td>\n",
              "      <td>0</td>\n",
              "      <td>0</td>\n",
              "      <td>0</td>\n",
              "      <td>0</td>\n",
              "      <td>2</td>\n",
              "      <td>0</td>\n",
              "      <td>0</td>\n",
              "      <td>1</td>\n",
              "      <td>0</td>\n",
              "    </tr>\n",
              "    <tr>\n",
              "      <th>غ</th>\n",
              "      <td>0</td>\n",
              "      <td>0</td>\n",
              "      <td>0</td>\n",
              "      <td>0</td>\n",
              "      <td>0</td>\n",
              "      <td>0</td>\n",
              "      <td>13</td>\n",
              "      <td>0</td>\n",
              "      <td>0</td>\n",
              "      <td>0</td>\n",
              "      <td>...</td>\n",
              "      <td>155</td>\n",
              "      <td>0</td>\n",
              "      <td>1</td>\n",
              "      <td>0</td>\n",
              "      <td>0</td>\n",
              "      <td>0</td>\n",
              "      <td>0</td>\n",
              "      <td>0</td>\n",
              "      <td>0</td>\n",
              "      <td>0</td>\n",
              "    </tr>\n",
              "    <tr>\n",
              "      <th>ف</th>\n",
              "      <td>0</td>\n",
              "      <td>0</td>\n",
              "      <td>1</td>\n",
              "      <td>1</td>\n",
              "      <td>0</td>\n",
              "      <td>0</td>\n",
              "      <td>0</td>\n",
              "      <td>0</td>\n",
              "      <td>2</td>\n",
              "      <td>0</td>\n",
              "      <td>...</td>\n",
              "      <td>0</td>\n",
              "      <td>154</td>\n",
              "      <td>12</td>\n",
              "      <td>0</td>\n",
              "      <td>0</td>\n",
              "      <td>0</td>\n",
              "      <td>3</td>\n",
              "      <td>0</td>\n",
              "      <td>0</td>\n",
              "      <td>0</td>\n",
              "    </tr>\n",
              "    <tr>\n",
              "      <th>ق</th>\n",
              "      <td>0</td>\n",
              "      <td>0</td>\n",
              "      <td>1</td>\n",
              "      <td>0</td>\n",
              "      <td>1</td>\n",
              "      <td>0</td>\n",
              "      <td>0</td>\n",
              "      <td>0</td>\n",
              "      <td>1</td>\n",
              "      <td>0</td>\n",
              "      <td>...</td>\n",
              "      <td>0</td>\n",
              "      <td>14</td>\n",
              "      <td>159</td>\n",
              "      <td>0</td>\n",
              "      <td>0</td>\n",
              "      <td>0</td>\n",
              "      <td>1</td>\n",
              "      <td>0</td>\n",
              "      <td>0</td>\n",
              "      <td>0</td>\n",
              "    </tr>\n",
              "    <tr>\n",
              "      <th>ك</th>\n",
              "      <td>0</td>\n",
              "      <td>0</td>\n",
              "      <td>1</td>\n",
              "      <td>0</td>\n",
              "      <td>0</td>\n",
              "      <td>0</td>\n",
              "      <td>0</td>\n",
              "      <td>0</td>\n",
              "      <td>0</td>\n",
              "      <td>1</td>\n",
              "      <td>...</td>\n",
              "      <td>0</td>\n",
              "      <td>0</td>\n",
              "      <td>1</td>\n",
              "      <td>164</td>\n",
              "      <td>5</td>\n",
              "      <td>0</td>\n",
              "      <td>4</td>\n",
              "      <td>0</td>\n",
              "      <td>1</td>\n",
              "      <td>2</td>\n",
              "    </tr>\n",
              "    <tr>\n",
              "      <th>ل</th>\n",
              "      <td>0</td>\n",
              "      <td>0</td>\n",
              "      <td>0</td>\n",
              "      <td>0</td>\n",
              "      <td>0</td>\n",
              "      <td>0</td>\n",
              "      <td>0</td>\n",
              "      <td>0</td>\n",
              "      <td>0</td>\n",
              "      <td>0</td>\n",
              "      <td>...</td>\n",
              "      <td>0</td>\n",
              "      <td>0</td>\n",
              "      <td>0</td>\n",
              "      <td>0</td>\n",
              "      <td>179</td>\n",
              "      <td>0</td>\n",
              "      <td>1</td>\n",
              "      <td>0</td>\n",
              "      <td>0</td>\n",
              "      <td>0</td>\n",
              "    </tr>\n",
              "    <tr>\n",
              "      <th>م</th>\n",
              "      <td>1</td>\n",
              "      <td>0</td>\n",
              "      <td>0</td>\n",
              "      <td>0</td>\n",
              "      <td>0</td>\n",
              "      <td>0</td>\n",
              "      <td>0</td>\n",
              "      <td>0</td>\n",
              "      <td>0</td>\n",
              "      <td>0</td>\n",
              "      <td>...</td>\n",
              "      <td>0</td>\n",
              "      <td>0</td>\n",
              "      <td>0</td>\n",
              "      <td>0</td>\n",
              "      <td>0</td>\n",
              "      <td>177</td>\n",
              "      <td>0</td>\n",
              "      <td>1</td>\n",
              "      <td>0</td>\n",
              "      <td>1</td>\n",
              "    </tr>\n",
              "    <tr>\n",
              "      <th>ن</th>\n",
              "      <td>0</td>\n",
              "      <td>0</td>\n",
              "      <td>4</td>\n",
              "      <td>0</td>\n",
              "      <td>0</td>\n",
              "      <td>0</td>\n",
              "      <td>0</td>\n",
              "      <td>0</td>\n",
              "      <td>0</td>\n",
              "      <td>0</td>\n",
              "      <td>...</td>\n",
              "      <td>0</td>\n",
              "      <td>1</td>\n",
              "      <td>1</td>\n",
              "      <td>3</td>\n",
              "      <td>14</td>\n",
              "      <td>0</td>\n",
              "      <td>156</td>\n",
              "      <td>0</td>\n",
              "      <td>0</td>\n",
              "      <td>0</td>\n",
              "    </tr>\n",
              "    <tr>\n",
              "      <th>و</th>\n",
              "      <td>0</td>\n",
              "      <td>0</td>\n",
              "      <td>0</td>\n",
              "      <td>0</td>\n",
              "      <td>0</td>\n",
              "      <td>0</td>\n",
              "      <td>0</td>\n",
              "      <td>2</td>\n",
              "      <td>0</td>\n",
              "      <td>6</td>\n",
              "      <td>...</td>\n",
              "      <td>0</td>\n",
              "      <td>0</td>\n",
              "      <td>0</td>\n",
              "      <td>0</td>\n",
              "      <td>0</td>\n",
              "      <td>0</td>\n",
              "      <td>0</td>\n",
              "      <td>166</td>\n",
              "      <td>0</td>\n",
              "      <td>6</td>\n",
              "    </tr>\n",
              "    <tr>\n",
              "      <th>ي</th>\n",
              "      <td>0</td>\n",
              "      <td>2</td>\n",
              "      <td>1</td>\n",
              "      <td>0</td>\n",
              "      <td>0</td>\n",
              "      <td>0</td>\n",
              "      <td>0</td>\n",
              "      <td>1</td>\n",
              "      <td>0</td>\n",
              "      <td>0</td>\n",
              "      <td>...</td>\n",
              "      <td>0</td>\n",
              "      <td>1</td>\n",
              "      <td>5</td>\n",
              "      <td>0</td>\n",
              "      <td>1</td>\n",
              "      <td>2</td>\n",
              "      <td>4</td>\n",
              "      <td>0</td>\n",
              "      <td>158</td>\n",
              "      <td>2</td>\n",
              "    </tr>\n",
              "    <tr>\n",
              "      <th>ﻫ</th>\n",
              "      <td>0</td>\n",
              "      <td>0</td>\n",
              "      <td>0</td>\n",
              "      <td>0</td>\n",
              "      <td>0</td>\n",
              "      <td>0</td>\n",
              "      <td>0</td>\n",
              "      <td>0</td>\n",
              "      <td>0</td>\n",
              "      <td>0</td>\n",
              "      <td>...</td>\n",
              "      <td>0</td>\n",
              "      <td>0</td>\n",
              "      <td>1</td>\n",
              "      <td>0</td>\n",
              "      <td>0</td>\n",
              "      <td>0</td>\n",
              "      <td>0</td>\n",
              "      <td>9</td>\n",
              "      <td>0</td>\n",
              "      <td>164</td>\n",
              "    </tr>\n",
              "  </tbody>\n",
              "</table>\n",
              "<p>28 rows × 28 columns</p>\n",
              "</div>\n",
              "      <button class=\"colab-df-convert\" onclick=\"convertToInteractive('df-a87d9676-52b0-430e-b62b-958365710d68')\"\n",
              "              title=\"Convert this dataframe to an interactive table.\"\n",
              "              style=\"display:none;\">\n",
              "        \n",
              "  <svg xmlns=\"http://www.w3.org/2000/svg\" height=\"24px\"viewBox=\"0 0 24 24\"\n",
              "       width=\"24px\">\n",
              "    <path d=\"M0 0h24v24H0V0z\" fill=\"none\"/>\n",
              "    <path d=\"M18.56 5.44l.94 2.06.94-2.06 2.06-.94-2.06-.94-.94-2.06-.94 2.06-2.06.94zm-11 1L8.5 8.5l.94-2.06 2.06-.94-2.06-.94L8.5 2.5l-.94 2.06-2.06.94zm10 10l.94 2.06.94-2.06 2.06-.94-2.06-.94-.94-2.06-.94 2.06-2.06.94z\"/><path d=\"M17.41 7.96l-1.37-1.37c-.4-.4-.92-.59-1.43-.59-.52 0-1.04.2-1.43.59L10.3 9.45l-7.72 7.72c-.78.78-.78 2.05 0 2.83L4 21.41c.39.39.9.59 1.41.59.51 0 1.02-.2 1.41-.59l7.78-7.78 2.81-2.81c.8-.78.8-2.07 0-2.86zM5.41 20L4 18.59l7.72-7.72 1.47 1.35L5.41 20z\"/>\n",
              "  </svg>\n",
              "      </button>\n",
              "      \n",
              "  <style>\n",
              "    .colab-df-container {\n",
              "      display:flex;\n",
              "      flex-wrap:wrap;\n",
              "      gap: 12px;\n",
              "    }\n",
              "\n",
              "    .colab-df-convert {\n",
              "      background-color: #E8F0FE;\n",
              "      border: none;\n",
              "      border-radius: 50%;\n",
              "      cursor: pointer;\n",
              "      display: none;\n",
              "      fill: #1967D2;\n",
              "      height: 32px;\n",
              "      padding: 0 0 0 0;\n",
              "      width: 32px;\n",
              "    }\n",
              "\n",
              "    .colab-df-convert:hover {\n",
              "      background-color: #E2EBFA;\n",
              "      box-shadow: 0px 1px 2px rgba(60, 64, 67, 0.3), 0px 1px 3px 1px rgba(60, 64, 67, 0.15);\n",
              "      fill: #174EA6;\n",
              "    }\n",
              "\n",
              "    [theme=dark] .colab-df-convert {\n",
              "      background-color: #3B4455;\n",
              "      fill: #D2E3FC;\n",
              "    }\n",
              "\n",
              "    [theme=dark] .colab-df-convert:hover {\n",
              "      background-color: #434B5C;\n",
              "      box-shadow: 0px 1px 3px 1px rgba(0, 0, 0, 0.15);\n",
              "      filter: drop-shadow(0px 1px 2px rgba(0, 0, 0, 0.3));\n",
              "      fill: #FFFFFF;\n",
              "    }\n",
              "  </style>\n",
              "\n",
              "      <script>\n",
              "        const buttonEl =\n",
              "          document.querySelector('#df-a87d9676-52b0-430e-b62b-958365710d68 button.colab-df-convert');\n",
              "        buttonEl.style.display =\n",
              "          google.colab.kernel.accessAllowed ? 'block' : 'none';\n",
              "\n",
              "        async function convertToInteractive(key) {\n",
              "          const element = document.querySelector('#df-a87d9676-52b0-430e-b62b-958365710d68');\n",
              "          const dataTable =\n",
              "            await google.colab.kernel.invokeFunction('convertToInteractive',\n",
              "                                                     [key], {});\n",
              "          if (!dataTable) return;\n",
              "\n",
              "          const docLinkHtml = 'Like what you see? Visit the ' +\n",
              "            '<a target=\"_blank\" href=https://colab.research.google.com/notebooks/data_table.ipynb>data table notebook</a>'\n",
              "            + ' to learn more about interactive tables.';\n",
              "          element.innerHTML = '';\n",
              "          dataTable['output_type'] = 'display_data';\n",
              "          await google.colab.output.renderOutput(dataTable, element);\n",
              "          const docLink = document.createElement('div');\n",
              "          docLink.innerHTML = docLinkHtml;\n",
              "          element.appendChild(docLink);\n",
              "        }\n",
              "      </script>\n",
              "    </div>\n",
              "  </div>\n",
              "  "
            ],
            "text/plain": [
              "Predicted    أ    ب    ت    ث    ج    ح    خ    د    ذ    ر  ...    غ    ف  \\\n",
              "True                                                         ...             \n",
              "أ          178    0    0    0    0    0    0    0    0    1  ...    0    0   \n",
              "ب            0  165    1    0    0    0    0    1    0    1  ...    0    0   \n",
              "ت            0    0  153   11    0    0    0    1    0    0  ...    0    0   \n",
              "ث            0    1   21  145    0    0    0    2    0    0  ...    0    0   \n",
              "ج            0    0    0    0  160   16    0    0    0    0  ...    0    0   \n",
              "ح            0    0    0    0    0  167    4    0    0    0  ...    0    0   \n",
              "خ            0    0    0    0    0    8  160    0    0    0  ...    6    0   \n",
              "د            0    0    0    0    0    0    0  164    0   10  ...    0    0   \n",
              "ذ            0    0    0    0    0    0    0    9  160    0  ...    0    1   \n",
              "ر            1    0    0    0    0    0    0    5    0  169  ...    0    0   \n",
              "ز            1    0    0    0    0    0    1    0    6   16  ...    0    0   \n",
              "س            0    5    2    0    0    0    0    0    0    0  ...    0    2   \n",
              "ش            0    0    0    4    0    0    0    0    0    0  ...    0    3   \n",
              "ص            0    0    0    0    0    0    0    0    0    0  ...    0    0   \n",
              "ض            0    0    3    0    0    0    0    0    0    0  ...    0   13   \n",
              "ط            0    0    0    0    0    0    0    1    0    0  ...    0    0   \n",
              "ظ            0    0    0    0    0    0    0    0    0    0  ...    0    0   \n",
              "ع            0    1    0    0    3    4    0    0    0    1  ...    3    0   \n",
              "غ            0    0    0    0    0    0   13    0    0    0  ...  155    0   \n",
              "ف            0    0    1    1    0    0    0    0    2    0  ...    0  154   \n",
              "ق            0    0    1    0    1    0    0    0    1    0  ...    0   14   \n",
              "ك            0    0    1    0    0    0    0    0    0    1  ...    0    0   \n",
              "ل            0    0    0    0    0    0    0    0    0    0  ...    0    0   \n",
              "م            1    0    0    0    0    0    0    0    0    0  ...    0    0   \n",
              "ن            0    0    4    0    0    0    0    0    0    0  ...    0    1   \n",
              "و            0    0    0    0    0    0    0    2    0    6  ...    0    0   \n",
              "ي            0    2    1    0    0    0    0    1    0    0  ...    0    1   \n",
              "ﻫ            0    0    0    0    0    0    0    0    0    0  ...    0    0   \n",
              "\n",
              "Predicted    ق    ك    ل    م    ن    و    ي    ﻫ  \n",
              "True                                               \n",
              "أ            0    0    0    0    0    1    0    0  \n",
              "ب            0    0    6    0    5    0    0    0  \n",
              "ت            0    0    0    0   15    0    0    0  \n",
              "ث            2    3    0    0    5    0    1    0  \n",
              "ج            0    0    0    2    0    1    0    1  \n",
              "ح            0    0    0    0    1    1    0    1  \n",
              "خ            0    0    0    0    0    1    0    0  \n",
              "د            0    0    4    0    1    0    0    0  \n",
              "ذ            0    0    0    0    1    1    0    0  \n",
              "ر            0    0    1    0    1    1    0    0  \n",
              "ز            0    0    0    0    0    0    0    0  \n",
              "س            0    0    0    2    1    0    1    0  \n",
              "ش           12    0    0    0    1    0    1    0  \n",
              "ص            0    0    0    0    0    0    1    3  \n",
              "ض            0    1    0    0    5    0    0    0  \n",
              "ط            0    0    0    0    0    0    0    1  \n",
              "ظ            0    0    0    0    1    0    0    2  \n",
              "ع            0    0    0    2    0    0    1    0  \n",
              "غ            1    0    0    0    0    0    0    0  \n",
              "ف           12    0    0    0    3    0    0    0  \n",
              "ق          159    0    0    0    1    0    0    0  \n",
              "ك            1  164    5    0    4    0    1    2  \n",
              "ل            0    0  179    0    1    0    0    0  \n",
              "م            0    0    0  177    0    1    0    1  \n",
              "ن            1    3   14    0  156    0    0    0  \n",
              "و            0    0    0    0    0  166    0    6  \n",
              "ي            5    0    1    2    4    0  158    2  \n",
              "ﻫ            1    0    0    0    0    9    0  164  \n",
              "\n",
              "[28 rows x 28 columns]"
            ]
          },
          "execution_count": 32,
          "metadata": {},
          "output_type": "execute_result"
        }
      ],
      "source": [
        "pd.DataFrame({'True':arabic_alpha[y_true],'Predicted':arabic_alpha[y_pred]}).groupby(['True'])['Predicted'].value_counts().unstack(fill_value=0)"
      ]
    },
    {
      "cell_type": "code",
      "execution_count": 33,
      "metadata": {
        "colab": {
          "base_uri": "https://localhost:8080/",
          "height": 404
        },
        "id": "_BURs-ks_8Ft",
        "outputId": "d674c100-4d72-4c12-b16a-7bafcca7afee"
      },
      "outputs": [
        {
          "data": {
            "image/png": "[encoded data removed]",
            "text/plain": [
              "<Figure size 864x432 with 1 Axes>"
            ]
          },
          "metadata": {
            "needs_background": "light"
          },
          "output_type": "display_data"
        }
      ],
      "source": [
        "plt.figure(figsize=(12,6))\n",
        "sns.heatmap(confusion_matrix(y_true,y_pred),annot=True,cbar=False,fmt=\"d\",linewidths=.5,cmap='gray')\n",
        "plt.gca().set_xticklabels(labels=arabic_alpha)\n",
        "plt.gca().set_yticklabels(labels=arabic_alpha)\n",
        "plt.ylabel('True label')\n",
        "plt.xlabel('Predicted label')\n",
        "plt.title('Confusion Matrix')\n",
        "plt.show()"
      ]
    },
    {
      "cell_type": "code",
      "execution_count": 34,
      "metadata": {
        "colab": {
          "base_uri": "https://localhost:8080/",
          "height": 295
        },
        "id": "VFDoVzEB_8Fu",
        "outputId": "54242931-0fdc-48de-d23e-1b93377a0b4a"
      },
      "outputs": [
        {
          "data": {
            "image/png": "[encoded data removed]",
            "text/plain": [
              "<Figure size 432x288 with 1 Axes>"
            ]
          },
          "metadata": {
            "needs_background": "light"
          },
          "output_type": "display_data"
        }
      ],
      "source": [
        "plt.plot(history.epoch,history.history['loss'],color='blue',label='Training Loss')\n",
        "plt.plot(history.epoch,history.history['val_loss'],color='red',label='Validation Loss')\n",
        "plt.title('Loss/Epoch')\n",
        "plt.xlabel('Epochs')\n",
        "plt.ylabel('Loss')\n",
        "plt.legend()\n",
        "plt.show()"
      ]
    },
    {
      "cell_type": "code",
      "execution_count": 35,
      "metadata": {
        "colab": {
          "base_uri": "https://localhost:8080/",
          "height": 295
        },
        "id": "xG5rKzEI_8Fu",
        "outputId": "aca8a9ca-8097-4dff-c27d-427a02158724"
      },
      "outputs": [
        {
          "data": {
            "image/png": "[encoded data removed]",
            "text/plain": [
              "<Figure size 432x288 with 1 Axes>"
            ]
          },
          "metadata": {
            "needs_background": "light"
          },
          "output_type": "display_data"
        }
      ],
      "source": [
        "plt.plot(history.epoch,history.history['accuracy'],color='blue',label='Training Accuracy')\n",
        "plt.plot(history.epoch,history.history['val_accuracy'],color='red',label='Validation Accuracy')\n",
        "plt.title('Accuracy/Epoch')\n",
        "plt.xlabel('Epochs')\n",
        "plt.ylabel('Accuracy')\n",
        "plt.legend()\n",
        "plt.show()"
      ]
    },
    {
      "cell_type": "markdown",
      "metadata": {
        "id": "oFqq6tYxP3Tb"
      },
      "source": [
        "<style>\n",
        ".header {width:100%;\n",
        "background:linear-gradient(to right,#5A4A9A,#4673B1,#339BA0,#7FC3B5);\n",
        "color: white;\n",
        "text-align: center;\n",
        "border-radius: 10px;\n",
        "height: 50px;\n",
        "}\n",
        "</style>\n",
        "<h1 class=\"header\">Saving Models</h1>"
      ]
    },
    {
      "cell_type": "code",
      "execution_count": 36,
      "metadata": {
        "id": "15O2sOrl_8Fv"
      },
      "outputs": [],
      "source": [
        "data_dir = 'trained_models'\n",
        "if not os.path.exists(data_dir):\n",
        "    os.makedirs(data_dir)\n",
        "model.save(f'{data_dir}/CNN_model.h5')\n",
        "tfjs.converters.save_keras_model(model, data_dir)"
      ]
    },
    {
      "cell_type": "markdown",
      "metadata": {
        "id": "rNy1AGT1P3Tc"
      },
      "source": [
        "<style>\n",
        ".header {width:100%;\n",
        "background:linear-gradient(to right,#5A4A9A,#4673B1,#339BA0,#7FC3B5);\n",
        "color: white;\n",
        "text-align: center;\n",
        "border-radius: 10px;\n",
        "height: 50px;\n",
        "}\n",
        "</style>\n",
        "<h1 class=\"header\">Model Deployment</h1>"
      ]
    },
    {
      "cell_type": "markdown",
      "metadata": {
        "id": "FyY89JwL_8Fv"
      },
      "source": [
        "You can try the model yourself from the following link"
      ]
    },
    {
      "cell_type": "markdown",
      "metadata": {
        "id": "2-KtkPXd_8Fw"
      },
      "source": [
        "<style>\n",
        ".screen {\n",
        "border-radius: 10px;\n",
        "width:80%;\n",
        "\n",
        "}\n",
        "</style>\n",
        "<center><img src = \"Imgs/Web_App.png\" class=\"screen\"/></center>"
      ]
    }
  ],
  "metadata": {
    "colab": {
      "collapsed_sections": [
        "JullukMd_8Fk",
        "jOBUMsno_8Fl",
        "TuRp8VwA_8Fo",
        "0y3htCGf_8Fo",
        "kLy9I5TJ_8Ft"
      ],
      "name": "Main.ipynb",
      "provenance": []
    },
    "interpreter": {
      "hash": "8a6378035587bb97055001603ea9d85a2aa377cc6252a50ffca4355a71bc8b90"
    },
    "kernelspec": {
      "display_name": "Python 3.8.10 64-bit",
      "language": "python",
      "name": "python3"
    },
    "language_info": {
      "codemirror_mode": {
        "name": "ipython",
        "version": 3
      },
      "file_extension": ".py",
      "mimetype": "text/x-python",
      "name": "python",
      "nbconvert_exporter": "python",
      "pygments_lexer": "ipython3",
      "version": "3.8.10"
    },
    "orig_nbformat": 4
  },
  "nbformat": 4,
  "nbformat_minor": 0
}
